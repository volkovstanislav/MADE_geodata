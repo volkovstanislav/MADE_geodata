{
 "cells": [
  {
   "cell_type": "markdown",
   "metadata": {},
   "source": [
    "Link: https://www.earthdatascience.org/courses/use-data-open-source-python/intro-raster-data-python/raster-data-processing/subtract-rasters-in-python/"
   ]
  },
  {
   "cell_type": "code",
   "execution_count": null,
   "metadata": {},
   "outputs": [],
   "source": [
    "import os\n",
    "import matplotlib.pyplot as plt\n",
    "from matplotlib.patches import Patch\n",
    "from matplotlib.colors import ListedColormap\n",
    "import matplotlib.colors as colors\n",
    "import seaborn as sns\n",
    "import numpy as np\n",
    "import rasterio as rio\n",
    "from rasterio.plot import plotting_extent\n",
    "import earthpy as et\n",
    "import earthpy.spatial as es\n",
    "import earthpy.plot as ep\n",
    "\n",
    "# prettier plotting with seaborn\n",
    "sns.set(font_scale=1.5, style=\"whitegrid\")\n",
    "\n",
    "# Get data and set working directory\n",
    "et.data.get_data(\"colorado-flood\")\n",
    "os.chdir(os.path.join(et.io.HOME, 'earth-analytics'))"
   ]
  },
  {
   "cell_type": "code",
   "execution_count": null,
   "metadata": {},
   "outputs": [],
   "source": [
    "# Define relative path to file\n",
    "lidar_dem_path = os.path.join(\"data\", \"colorado-flood\", \"spatial\", \n",
    "                              \"boulder-leehill-rd\", \"pre-flood\", \"lidar\",\n",
    "                              \"pre_DTM.tif\")\n",
    "\n",
    "# Open raster data\n",
    "with rio.open(lidar_dem_path) as lidar_dem:\n",
    "    lidar_dem_im = lidar_dem.read(1, masked=True)\n",
    "    \n",
    "    # Get bounds for plotting\n",
    "    bounds = plotting_extent(lidar_dem)"
   ]
  },
  {
   "cell_type": "code",
   "execution_count": null,
   "metadata": {},
   "outputs": [],
   "source": [
    "# Define relative path to file\n",
    "lidar_dsm_path = os.path.join(\"data\", \"colorado-flood\", \"spatial\", \n",
    "                              \"boulder-leehill-rd\", \"pre-flood\", \"lidar\",\n",
    "                              \"pre_DSM.tif\")\n",
    "\n",
    "with rio.open(lidar_dsm_path) as lidar_dsm:\n",
    "    lidar_dsm_im = lidar_dsm.read(1, masked=True)\n",
    "    \n",
    "lidar_dsm_im"
   ]
  },
  {
   "cell_type": "code",
   "execution_count": null,
   "metadata": {},
   "outputs": [],
   "source": [
    "# Are the bounds the same?\n",
    "print(\"Is the spatial extent the same?\", \n",
    "      lidar_dem.bounds == lidar_dsm.bounds)\n",
    "\n",
    "# Is the resolution the same ??\n",
    "print(\"Is the resolution the same?\", \n",
    "      lidar_dem.res == lidar_dsm.res)"
   ]
  },
  {
   "cell_type": "code",
   "execution_count": null,
   "metadata": {},
   "outputs": [],
   "source": [
    "# Calculate canopy height model\n",
    "lidar_chm_im = lidar_dsm_im - lidar_dem_im"
   ]
  },
  {
   "cell_type": "code",
   "execution_count": null,
   "metadata": {},
   "outputs": [],
   "source": [
    "# Plot the data\n",
    "ep.plot_bands(lidar_chm_im, \n",
    "              cmap='viridis',\n",
    "              title=\"Lidar Canopy Height Model (CHM)\",\n",
    "              scale=False)\n",
    "plt.show()"
   ]
  },
  {
   "cell_type": "code",
   "execution_count": null,
   "metadata": {},
   "outputs": [],
   "source": [
    "ep.hist(lidar_chm_im, \n",
    "        colors = 'purple',\n",
    "        title=\"Histogram of CHM Values\")\n",
    "plt.show()"
   ]
  },
  {
   "cell_type": "code",
   "execution_count": null,
   "metadata": {},
   "outputs": [],
   "source": [
    "print('CHM minimum value: ', lidar_chm_im.min())\n",
    "print('CHM max value: ', lidar_chm_im.max())"
   ]
  },
  {
   "cell_type": "code",
   "execution_count": null,
   "metadata": {},
   "outputs": [],
   "source": [
    "if os.path.exists('data/colorado-flood/spatial/outputs'):\n",
    "    print('The directory exists!')\n",
    "else:\n",
    "    os.makedirs('data/colorado-flood/spatial/outputs')"
   ]
  },
  {
   "cell_type": "code",
   "execution_count": null,
   "metadata": {},
   "outputs": [],
   "source": [
    "lidar_dem.meta"
   ]
  },
  {
   "cell_type": "code",
   "execution_count": null,
   "metadata": {},
   "outputs": [],
   "source": [
    "lidar_chm_im.min()\n",
    "lidar_chm_im"
   ]
  },
  {
   "cell_type": "code",
   "execution_count": null,
   "metadata": {},
   "outputs": [],
   "source": [
    "# fill the masked pixels with a set no data value\n",
    "nodatavalue = -999.0\n",
    "lidar_chm_im_fi = np.ma.filled(lidar_chm_im, fill_value=nodatavalue)\n",
    "lidar_chm_im_fi.min(), nodatavalue"
   ]
  },
  {
   "cell_type": "code",
   "execution_count": null,
   "metadata": {},
   "outputs": [],
   "source": [
    "# Update the metadata to ensure the nodata value is properly documented \n",
    "\n",
    "# Create dictionary copy\n",
    "chm_meta = lidar_dem.meta.copy()\n",
    "\n",
    "# Update the nodata value to be an easier to use number\n",
    "chm_meta.update({'nodata': nodatavalue})\n",
    "chm_meta"
   ]
  },
  {
   "cell_type": "code",
   "execution_count": null,
   "metadata": {},
   "outputs": [],
   "source": [
    "# Note the width and height of the dem above. \n",
    "# Is the numpy array shape the same?\n",
    "lidar_chm_im_fi.shape"
   ]
  },
  {
   "cell_type": "code",
   "execution_count": null,
   "metadata": {},
   "outputs": [],
   "source": [
    "out_path = os.path.join(\"data\", \"colorado-flood\", \"spatial\",\n",
    "                        \"outputs\", \"lidar_chm.tif\")\n",
    "\n",
    "with rio.open(out_path, 'w', **chm_meta) as outf:\n",
    "    outf.write(lidar_chm_im_fi, 1)"
   ]
  }
 ],
 "metadata": {
  "kernelspec": {
   "display_name": "Python 3",
   "language": "python",
   "name": "python3"
  },
  "language_info": {
   "codemirror_mode": {
    "name": "ipython",
    "version": 3
   },
   "file_extension": ".py",
   "mimetype": "text/x-python",
   "name": "python",
   "nbconvert_exporter": "python",
   "pygments_lexer": "ipython3",
   "version": "3.7.6"
  }
 },
 "nbformat": 4,
 "nbformat_minor": 4
}
