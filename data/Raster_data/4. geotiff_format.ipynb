{
 "cells": [
  {
   "cell_type": "markdown",
   "metadata": {},
   "source": [
    "Link: https://www.earthdatascience.org/courses/use-data-open-source-python/intro-raster-data-python/fundamentals-raster-data/intro-to-the-geotiff-file-format/"
   ]
  },
  {
   "cell_type": "code",
   "execution_count": 1,
   "metadata": {},
   "outputs": [],
   "source": [
    "# Import necessary packages\n",
    "import os\n",
    "import rasterio as rio\n",
    "import earthpy as et\n",
    "\n",
    "# Get data and set working directory\n",
    "et.data.get_data(\"colorado-flood\")\n",
    "os.chdir(os.path.join(et.io.HOME, 'earth-analytics'))"
   ]
  },
  {
   "cell_type": "code",
   "execution_count": 2,
   "metadata": {},
   "outputs": [],
   "source": [
    "# Define relative path to file\n",
    "lidar_dem_path = os.path.join(\"data\", \"colorado-flood\", \"spatial\", \n",
    "                              \"boulder-leehill-rd\", \"pre-flood\", \"lidar\",\n",
    "                              \"pre_DTM.tif\")\n",
    "\n",
    "with rio.open(lidar_dem_path) as lidar_dem:\n",
    "    lidar_dem.bounds"
   ]
  },
  {
   "cell_type": "code",
   "execution_count": 3,
   "metadata": {},
   "outputs": [
    {
     "data": {
      "text/plain": [
       "{'driver': 'GTiff',\n",
       " 'dtype': 'float32',\n",
       " 'nodata': -3.4028234663852886e+38,\n",
       " 'width': 4000,\n",
       " 'height': 2000,\n",
       " 'count': 1,\n",
       " 'crs': CRS.from_epsg(32613),\n",
       " 'transform': Affine(1.0, 0.0, 472000.0,\n",
       "        0.0, -1.0, 4436000.0)}"
      ]
     },
     "execution_count": 3,
     "metadata": {},
     "output_type": "execute_result"
    }
   ],
   "source": [
    "# View generate metadata associated with the raster file\n",
    "lidar_dem.meta"
   ]
  },
  {
   "cell_type": "code",
   "execution_count": 4,
   "metadata": {},
   "outputs": [
    {
     "data": {
      "text/plain": [
       "(1.0, 1.0)"
      ]
     },
     "execution_count": 4,
     "metadata": {},
     "output_type": "execute_result"
    }
   ],
   "source": [
    "# What is the spatial resolution?\n",
    "lidar_dem.res"
   ]
  },
  {
   "cell_type": "code",
   "execution_count": 5,
   "metadata": {},
   "outputs": [
    {
     "name": "stdout",
     "output_type": "stream",
     "text": [
      "{'COMPRESSION': 'LZW', 'INTERLEAVE': 'BAND'}\n"
     ]
    }
   ],
   "source": [
    "# View image structure\n",
    "with rio.open(lidar_dem_path) as lidar_dem:\n",
    "    print(lidar_dem.tags(ns='IMAGE_STRUCTURE'))\n",
    "    lidar_dem_mask = lidar_dem.dataset_mask()"
   ]
  },
  {
   "cell_type": "markdown",
   "metadata": {},
   "source": [
    "Что такое LZW? https://habr.com/ru/post/132683/"
   ]
  },
  {
   "cell_type": "code",
   "execution_count": 6,
   "metadata": {},
   "outputs": [
    {
     "data": {
      "text/plain": [
       "array([[  0,   0,   0, ..., 255, 255, 255],\n",
       "       [  0,   0,   0, ..., 255, 255, 255],\n",
       "       [  0,   0,   0, ..., 255, 255, 255],\n",
       "       ...,\n",
       "       [  0,   0,   0, ..., 255, 255, 255],\n",
       "       [  0,   0,   0, ..., 255, 255, 255],\n",
       "       [  0,   0,   0, ..., 255, 255, 255]], dtype=uint8)"
      ]
     },
     "execution_count": 6,
     "metadata": {},
     "output_type": "execute_result"
    }
   ],
   "source": [
    "# View data mask\n",
    "lidar_dem_mask"
   ]
  },
  {
   "cell_type": "code",
   "execution_count": 7,
   "metadata": {},
   "outputs": [
    {
     "name": "stdout",
     "output_type": "stream",
     "text": [
      "EPSG:32613\n",
      "BoundingBox(left=472000.0, bottom=4434000.0, right=476000.0, top=4436000.0)\n"
     ]
    }
   ],
   "source": [
    "print(lidar_dem.crs)\n",
    "print(lidar_dem.bounds)"
   ]
  },
  {
   "cell_type": "code",
   "execution_count": 8,
   "metadata": {},
   "outputs": [],
   "source": [
    "# Define relative path to file\n",
    "lidar_dsm_path = os.path.join(\"data\", \"colorado-flood\", \"spatial\", \n",
    "                              \"boulder-leehill-rd\", \"pre-flood\", \"lidar\",\n",
    "                              \"pre_DSM.tif\")\n",
    "\n",
    "# Open lidar dsm\n",
    "with rio.open(lidar_dsm_path) as lidar_dsm:\n",
    "    extent_lidar_dsm = lidar_dsm.bounds "
   ]
  },
  {
   "cell_type": "code",
   "execution_count": 9,
   "metadata": {},
   "outputs": [
    {
     "name": "stdout",
     "output_type": "stream",
     "text": [
      "Both datasets cover the same spatial extent\n"
     ]
    }
   ],
   "source": [
    "if lidar_dem.bounds == lidar_dsm.bounds:\n",
    "    print(\"Both datasets cover the same spatial extent\")"
   ]
  },
  {
   "cell_type": "code",
   "execution_count": 10,
   "metadata": {},
   "outputs": [
    {
     "data": {
      "text/plain": [
       "True"
      ]
     },
     "execution_count": 10,
     "metadata": {},
     "output_type": "execute_result"
    }
   ],
   "source": [
    "# Do both layers have the same spatial resolution?\n",
    "lidar_dsm.res == lidar_dem.res"
   ]
  },
  {
   "cell_type": "code",
   "execution_count": 11,
   "metadata": {},
   "outputs": [
    {
     "data": {
      "text/plain": [
       "{'init': 'epsg:32613'}"
      ]
     },
     "execution_count": 11,
     "metadata": {},
     "output_type": "execute_result"
    }
   ],
   "source": [
    "# Get crs of a rasterio object\n",
    "lidar_dem.crs.data"
   ]
  },
  {
   "cell_type": "code",
   "execution_count": 12,
   "metadata": {},
   "outputs": [
    {
     "data": {
      "text/plain": [
       "'+proj=utm +zone=13 +datum=WGS84 +units=m +no_defs'"
      ]
     },
     "execution_count": 12,
     "metadata": {},
     "output_type": "execute_result"
    }
   ],
   "source": [
    "et.epsg['32613']"
   ]
  },
  {
   "cell_type": "code",
   "execution_count": 13,
   "metadata": {},
   "outputs": [
    {
     "name": "stdout",
     "output_type": "stream",
     "text": [
      "1\n"
     ]
    }
   ],
   "source": [
    "print(lidar_dem.count)"
   ]
  },
  {
   "cell_type": "code",
   "execution_count": 14,
   "metadata": {},
   "outputs": [
    {
     "name": "stdout",
     "output_type": "stream",
     "text": [
      "number of bands (1,)\n"
     ]
    }
   ],
   "source": [
    "# How many bands / layers does the object have?\n",
    "print(\"number of bands\", lidar_dem.indexes)"
   ]
  }
 ],
 "metadata": {
  "kernelspec": {
   "display_name": "Python 3",
   "language": "python",
   "name": "python3"
  },
  "language_info": {
   "codemirror_mode": {
    "name": "ipython",
    "version": 3
   },
   "file_extension": ".py",
   "mimetype": "text/x-python",
   "name": "python",
   "nbconvert_exporter": "python",
   "pygments_lexer": "ipython3",
   "version": "3.7.6"
  }
 },
 "nbformat": 4,
 "nbformat_minor": 4
}
