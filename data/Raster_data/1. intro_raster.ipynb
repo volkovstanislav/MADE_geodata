{
 "cells": [
  {
   "cell_type": "markdown",
   "metadata": {},
   "source": [
    "Link: https://www.earthdatascience.org/courses/use-data-open-source-python/intro-raster-data-python/fundamentals-raster-data/\n",
    "https://www.earthdatascience.org/courses/use-data-open-source-python/intro-raster-data-python/fundamentals-raster-data/open-lidar-raster-python/"
   ]
  },
  {
   "cell_type": "code",
   "execution_count": null,
   "metadata": {},
   "outputs": [],
   "source": [
    "# Import necessary packages\n",
    "import os\n",
    "import matplotlib.pyplot as plt\n",
    "import seaborn as sns\n",
    "# Use geopandas for vector data and rasterio for raster data\n",
    "import geopandas as gpd\n",
    "import rasterio as rio\n",
    "# Plotting extent is used to plot raster & vector data together\n",
    "from rasterio.plot import plotting_extent\n",
    "\n",
    "import earthpy as et\n",
    "import earthpy.plot as ep\n",
    "\n",
    "# Prettier plotting with seaborn\n",
    "sns.set(font_scale=1.5, style=\"white\")"
   ]
  },
  {
   "cell_type": "code",
   "execution_count": null,
   "metadata": {},
   "outputs": [],
   "source": [
    "# Get data and set working directory\n",
    "et.data.get_data(\"colorado-flood\")\n",
    "os.chdir(os.path.join(et.io.HOME, 'earth-analytics', 'data'))"
   ]
  },
  {
   "cell_type": "markdown",
   "metadata": {},
   "source": [
    "What is LiDAR? https://www.earthdatascience.org/courses/use-data-open-source-python/data-stories/what-is-lidar-data/"
   ]
  },
  {
   "cell_type": "markdown",
   "metadata": {},
   "source": [
    "Цифровая модель местности (ЦММ/DSM) и цифровая модель рельефа (ЦМР/DEM): https://desktop.arcgis.com/ru/arcmap/10.5/manage-data/las-dataset/lidar-solutions-creating-raster-dems-and-dsms-from-large-lidar-point-collections.htm"
   ]
  },
  {
   "cell_type": "code",
   "execution_count": null,
   "metadata": {},
   "outputs": [],
   "source": [
    "# Define relative path to file\n",
    "dem_pre_path = os.path.join(\"colorado-flood\",\n",
    "                            \"spatial\",\n",
    "                            \"boulder-leehill-rd\",\n",
    "                            \"pre-flood\",\n",
    "                            \"lidar\",\n",
    "                            \"pre_DTM.tif\")\n",
    "\n",
    "# Open the file using a context manager (\"with rio.open\" statement)\n",
    "with rio.open(dem_pre_path) as dem_src:\n",
    "    dtm_pre_arr = dem_src.read(1)"
   ]
  },
  {
   "cell_type": "code",
   "execution_count": null,
   "metadata": {},
   "outputs": [],
   "source": [
    "# Plot your data using earthpy\n",
    "ep.plot_bands(dtm_pre_arr,\n",
    "              title=\"Lidar Digital Elevation Model (DEM) \\n Boulder Flood 2013\",\n",
    "              cmap=\"Greys\")\n",
    "\n",
    "plt.show()"
   ]
  },
  {
   "cell_type": "markdown",
   "metadata": {},
   "source": [
    "BTW, A Digital Terrain Model (DTM) is a DEM in which terrain data has been further enhanced with breaklines, creating greater accuracy as it contains additional information defining terrain in areas where Lidar data alone is unable to do the job effectively."
   ]
  },
  {
   "cell_type": "code",
   "execution_count": null,
   "metadata": {},
   "outputs": [],
   "source": [
    "print(\"the minimum raster value is: \", dtm_pre_arr.min())\n",
    "print(\"the maximum raster value is: \", dtm_pre_arr.max())"
   ]
  },
  {
   "cell_type": "code",
   "execution_count": null,
   "metadata": {},
   "outputs": [],
   "source": [
    "# A histogram can also be helpful to look at the range of values in your data\n",
    "# What do you notice about the histogram below?\n",
    "ep.hist(dtm_pre_arr,\n",
    "        figsize=(10, 6))\n",
    "plt.show()"
   ]
  },
  {
   "cell_type": "code",
   "execution_count": null,
   "metadata": {},
   "outputs": [],
   "source": [
    "# Read in your data and mask the no data values\n",
    "with rio.open(dem_pre_path) as dem_src:\n",
    "    # Masked=True will mask all no data values\n",
    "    dtm_pre_arr = dem_src.read(1, masked=True)"
   ]
  },
  {
   "cell_type": "code",
   "execution_count": null,
   "metadata": {},
   "outputs": [],
   "source": [
    "print(\"the minimum raster value is: \", dtm_pre_arr.min())\n",
    "print(\"the maximum raster value is: \", dtm_pre_arr.max())"
   ]
  },
  {
   "cell_type": "code",
   "execution_count": null,
   "metadata": {},
   "outputs": [],
   "source": [
    "# A histogram can also be helpful to look at the range of values in your data\n",
    "ep.hist(dtm_pre_arr,\n",
    "        figsize=(10, 6),\n",
    "        title=\"Histogram of the Data with No Data Values Removed\")\n",
    "plt.show()"
   ]
  },
  {
   "cell_type": "code",
   "execution_count": null,
   "metadata": {},
   "outputs": [],
   "source": [
    "# Plot data using earthpy\n",
    "ep.plot_bands(dtm_pre_arr,\n",
    "              title=\"Lidar Digital Elevation Model (DEM) \\n Boulder Flood 2013\",\n",
    "              cmap=\"Greys\")\n",
    "\n",
    "plt.show()"
   ]
  },
  {
   "cell_type": "code",
   "execution_count": null,
   "metadata": {},
   "outputs": [],
   "source": [
    "with rio.open(dem_pre_path) as dem_src:\n",
    "    lidar_dem_im = dem_src.read(1, masked=True)\n",
    "\n",
    "print(\"Numpy Array Shape:\", lidar_dem_im.shape)\n",
    "print(\"Object type:\", type(lidar_dem_im))"
   ]
  },
  {
   "cell_type": "code",
   "execution_count": null,
   "metadata": {},
   "outputs": [],
   "source": [
    "with rio.open(dem_pre_path) as dem_src:\n",
    "    lidar_dem_im = dem_src.read(1, masked=True)\n",
    "    # Create an object called lidar_dem_meta that contains the spatial metadata\n",
    "    lidar_dem_meta = dem_src.profile\n",
    "\n",
    "lidar_dem_meta"
   ]
  },
  {
   "cell_type": "code",
   "execution_count": null,
   "metadata": {},
   "outputs": [],
   "source": [
    "# Look at the path to your dem_pre file\n",
    "dem_pre_path"
   ]
  },
  {
   "cell_type": "code",
   "execution_count": null,
   "metadata": {},
   "outputs": [],
   "source": [
    "# Opening the file with the dem_pre_path\n",
    "# Notice here the src object is printed and returns an \"open\" DatasetReader object\n",
    "with rio.open(dem_pre_path) as src:\n",
    "    print(src)"
   ]
  },
  {
   "cell_type": "code",
   "execution_count": null,
   "metadata": {},
   "outputs": [],
   "source": [
    "# Note that the src object is now closed because it's not within the indented\n",
    "# part of the context manager above\n",
    "print(src)"
   ]
  },
  {
   "cell_type": "code",
   "execution_count": null,
   "metadata": {},
   "outputs": [],
   "source": [
    "# Open the file using a context manager and get the values as a numpy array with .read()\n",
    "with rio.open(dem_pre_path) as dem_src:\n",
    "    dtm_pre_arr = dem_src.read(1)\n",
    "\n",
    "dtm_pre_arr"
   ]
  },
  {
   "cell_type": "code",
   "execution_count": null,
   "metadata": {},
   "outputs": [],
   "source": [
    "# View numpy array of your data\n",
    "dtm_pre_arr"
   ]
  },
  {
   "cell_type": "code",
   "execution_count": null,
   "metadata": {},
   "outputs": [],
   "source": [
    "with rio.open(dem_pre_path) as dem_src:\n",
    "    # Create an object called lidar_dem_meta that contains the spatial metadata\n",
    "    lidar_dem_meta = dem_src.profile\n",
    "\n",
    "lidar_dem_meta"
   ]
  },
  {
   "cell_type": "code",
   "execution_count": null,
   "metadata": {},
   "outputs": [],
   "source": [
    "with rio.open(dem_pre_path) as dem_src:\n",
    "    # Create an object called lidar_dem_plot_ext that contains the spatial metadata\n",
    "    lidar_dem_plot_ext = plotting_extent(dem_src)\n",
    "\n",
    "# This plotting extent object will be used below to ensure your data overlay correctly\n",
    "lidar_dem_plot_ext"
   ]
  },
  {
   "cell_type": "code",
   "execution_count": null,
   "metadata": {},
   "outputs": [],
   "source": [
    "# Open site boundary vector layer\n",
    "site_bound_path = os.path.join(\"colorado-flood\",\n",
    "                               \"spatial\",\n",
    "                               \"boulder-leehill-rd\",\n",
    "                               \"clip-extent.shp\")\n",
    "site_bound_shp = gpd.read_file(site_bound_path)\n",
    "\n",
    "# Plot the vector data\n",
    "site_bound_shp.plot(color='teal',\n",
    "                    edgecolor='black')\n",
    "plt.show()"
   ]
  },
  {
   "cell_type": "code",
   "execution_count": null,
   "metadata": {},
   "outputs": [],
   "source": [
    "fig, ax = plt.subplots(figsize=(4, 10))\n",
    "\n",
    "ep.plot_bands(dtm_pre_arr, ax=ax)\n",
    "\n",
    "site_bound_shp.plot(color='teal',\n",
    "                    edgecolor='black', ax=ax)\n",
    "\n",
    "plt.show()"
   ]
  },
  {
   "cell_type": "code",
   "execution_count": null,
   "metadata": {},
   "outputs": [],
   "source": [
    "with rio.open(dem_pre_path) as dem_src:\n",
    "    lidar_dem_im = dem_src.read(1, masked=True)\n",
    "    # Create an object called lidar_dem_plot_ext that contains the spatial metadata\n",
    "    lidar_dem_plot_ext = plotting_extent(dem_src)\n",
    "\n",
    "# This plotting extent object will be used below to ensure your data overlay correctly\n",
    "lidar_dem_plot_ext"
   ]
  },
  {
   "cell_type": "code",
   "execution_count": null,
   "metadata": {},
   "outputs": [],
   "source": [
    "fig, ax = plt.subplots()\n",
    "\n",
    "ep.plot_bands(dtm_pre_arr,\n",
    "              ax=ax,\n",
    "              extent=lidar_dem_plot_ext)\n",
    "\n",
    "site_bound_shp.plot(color='None',\n",
    "                    edgecolor='teal',\n",
    "                    linewidth=2,\n",
    "                    ax=ax)\n",
    "# Turn off the outline or axis border on your plot\n",
    "ax.axis('off')\n",
    "plt.show()"
   ]
  }
 ],
 "metadata": {
  "kernelspec": {
   "display_name": "Python 3",
   "language": "python",
   "name": "python3"
  },
  "language_info": {
   "codemirror_mode": {
    "name": "ipython",
    "version": 3
   },
   "file_extension": ".py",
   "mimetype": "text/x-python",
   "name": "python",
   "nbconvert_exporter": "python",
   "pygments_lexer": "ipython3",
   "version": "3.7.6"
  }
 },
 "nbformat": 4,
 "nbformat_minor": 4
}
