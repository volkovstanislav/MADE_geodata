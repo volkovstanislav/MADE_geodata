{
 "cells": [
  {
   "cell_type": "markdown",
   "metadata": {},
   "source": [
    "Link: https://www.earthdatascience.org/courses/use-data-open-source-python/intro-raster-data-python/fundamentals-raster-data/plot-raster-histograms/"
   ]
  },
  {
   "cell_type": "code",
   "execution_count": null,
   "metadata": {},
   "outputs": [],
   "source": [
    "# Import necessary packages\n",
    "import os\n",
    "import matplotlib.pyplot as plt\n",
    "import seaborn as sns\n",
    "import numpy as np\n",
    "import rasterio as rio\n",
    "import earthpy as et\n",
    "import earthpy.plot as ep\n",
    "\n",
    "# Get data and set wd\n",
    "et.data.get_data(\"colorado-flood\")\n",
    "os.chdir(os.path.join(et.io.HOME, 'earth-analytics'))\n",
    "\n",
    "# Prettier plotting with seaborn\n",
    "sns.set(font_scale=1.5, style=\"whitegrid\")"
   ]
  },
  {
   "cell_type": "code",
   "execution_count": null,
   "metadata": {},
   "outputs": [],
   "source": [
    "# Define relative path to file\n",
    "lidar_dem_path = os.path.join(\"data\", \"colorado-flood\", \"spatial\", \n",
    "                              \"boulder-leehill-rd\", \"pre-flood\", \"lidar\",\n",
    "                              \"pre_DTM.tif\")\n",
    "\n",
    "# Open data and assign negative values to nan\n",
    "with rio.open(lidar_dem_path) as src:\n",
    "    lidar_dem_im = src.read(1, masked=True)\n",
    "\n",
    "# View object dimensions\n",
    "lidar_dem_im.shape"
   ]
  },
  {
   "cell_type": "code",
   "execution_count": null,
   "metadata": {},
   "outputs": [],
   "source": [
    "# The .ravel method turns an 2-D numpy array into a 1-D vector\n",
    "print(lidar_dem_im.shape)\n",
    "print(lidar_dem_im.ravel().shape)"
   ]
  },
  {
   "cell_type": "code",
   "execution_count": null,
   "metadata": {},
   "outputs": [],
   "source": [
    "ep.hist(lidar_dem_im, colors=['purple'],\n",
    "        title=\"Distribution of Lidar DEM Elevation Values\",\n",
    "        xlabel='Elevation (meters)',\n",
    "        ylabel='Frequency')\n",
    "plt.show()"
   ]
  },
  {
   "cell_type": "code",
   "execution_count": null,
   "metadata": {},
   "outputs": [],
   "source": [
    "ep.hist(lidar_dem_im, colors=['purple'],\n",
    "        title=\"Distribution of Lidar DEM Elevation Values\",\n",
    "        xlabel='Elevation (meters)',\n",
    "        ylabel='Frequency',\n",
    "        bins=3)\n",
    "plt.show()"
   ]
  },
  {
   "cell_type": "code",
   "execution_count": null,
   "metadata": {},
   "outputs": [],
   "source": [
    "ep.hist(lidar_dem_im,\n",
    "        bins=[1600, 1800, 2000, 2100],\n",
    "        colors=['purple'],\n",
    "        title=\"Distribution of Lidar DEM Elevation Values\",\n",
    "        xlabel='Elevation (meters)',\n",
    "        ylabel='Frequency')\n",
    "plt.show()"
   ]
  }
 ],
 "metadata": {
  "kernelspec": {
   "display_name": "Python 3",
   "language": "python",
   "name": "python3"
  },
  "language_info": {
   "codemirror_mode": {
    "name": "ipython",
    "version": 3
   },
   "file_extension": ".py",
   "mimetype": "text/x-python",
   "name": "python",
   "nbconvert_exporter": "python",
   "pygments_lexer": "ipython3",
   "version": "3.7.6"
  }
 },
 "nbformat": 4,
 "nbformat_minor": 4
}
