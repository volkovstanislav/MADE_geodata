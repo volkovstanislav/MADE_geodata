{
 "cells": [
  {
   "cell_type": "markdown",
   "metadata": {},
   "source": [
    "# Анализ пространственных данных. Домашнее задание №1"
   ]
  },
  {
   "cell_type": "markdown",
   "metadata": {},
   "source": [
    "Данные для выполнения заданий можно найти [здесь](https://yadi.sk/d/xBemeb0ODlhCAQ?w=1)\n",
    "\n",
    "Дедлайн: __20 октября 2020 г. 09:00__"
   ]
  },
  {
   "cell_type": "markdown",
   "metadata": {},
   "source": [
    "ФИО: `Волков Станислав Анатольевич`"
   ]
  },
  {
   "cell_type": "markdown",
   "metadata": {},
   "source": [
    "Группа: `ML-12`"
   ]
  },
  {
   "cell_type": "markdown",
   "metadata": {},
   "source": [
    "## Задание №1. Reading coordinates from a file and creating a geometries. 4 балла."
   ]
  },
  {
   "cell_type": "markdown",
   "metadata": {},
   "source": [
    "One of the \"classical\" problems in GIS is the situation where you have a set of coordinates in a file and you need to get them into a map (or into a GIS-software). Dataset `travelTimes_2015_Helsinki.txt` consist of travel times between specific locations in Helsinki Region."
   ]
  },
  {
   "cell_type": "markdown",
   "metadata": {},
   "source": [
    "1. Read the data into memory.\n",
    "2. Read 4 columns `from_x`, `from_y`, `to_x`, `to_y` from the data.\n",
    "3. Create two lists called __orig_points__ and __dest_points__\n",
    "4. Iterate over the rows of your numpy array and add Shapely Point -objects into the __orig_points__ -list and __dest_point__ -list representing the origin locations and destination locations accordingly."
   ]
  },
  {
   "cell_type": "markdown",
   "metadata": {},
   "source": [
    "`from_x`: x-coordinate of the __origin__ location (longitude)\n",
    "\n",
    "`from_y`: y-coordinate of the __origin__ location (latitude)\n",
    "\n",
    "`to_x`: x-coordinate of the __destination__ location (longitude)\n",
    "\n",
    "`to_y`: y-coordinate of the __destination__ location (latitude)"
   ]
  },
  {
   "cell_type": "code",
   "execution_count": 1,
   "metadata": {},
   "outputs": [],
   "source": [
    "import pandas as pd\n",
    "from shapely.geometry import Point\n",
    "\n",
    "data = pd.read_csv(\"HW1_data/travelTimes_2015_Helsinki.txt\", sep=\";\")\n",
    "data = data[[\"from_x\",\"from_y\",\"to_x\",\"to_y\"]]"
   ]
  },
  {
   "cell_type": "code",
   "execution_count": 2,
   "metadata": {},
   "outputs": [],
   "source": [
    "orig_points = []\n",
    "dest_points = []\n",
    "\n",
    "for index, val in data.iterrows():\n",
    "    orig_points.append(Point(val[\"from_y\"], val[\"from_x\"]))\n",
    "    dest_points.append(Point(val[\"to_y\"], val[\"to_x\"]))"
   ]
  },
  {
   "cell_type": "markdown",
   "metadata": {},
   "source": [
    "## Задание №2. Creating LineStrings that represent the movements. 6 баллов."
   ]
  },
  {
   "cell_type": "markdown",
   "metadata": {},
   "source": [
    "Please use data from previous task:"
   ]
  },
  {
   "cell_type": "markdown",
   "metadata": {},
   "source": [
    "1. Create a list called `lines`\n",
    "2. Iterate over the __orig_points__ and __dest_points__ lists and create a Shapely _LineString_ -object between the origin and destination point\n",
    "3. Add that line into the `lines` -list.\n",
    "4. Find out what is the average (Euclidian) distance of all the origin-destination _LineStrings_ that we just created, and print it out."
   ]
  },
  {
   "cell_type": "code",
   "execution_count": 3,
   "metadata": {},
   "outputs": [],
   "source": [
    "lines = []\n",
    "from shapely.geometry import LineString\n",
    "for orig_point, dest_point in zip(orig_points, dest_points):\n",
    "    lines.append(LineString([orig_point, dest_point]))"
   ]
  },
  {
   "cell_type": "code",
   "execution_count": 4,
   "metadata": {},
   "outputs": [
    {
     "name": "stdout",
     "output_type": "stream",
     "text": [
      "206138.3892485665\n"
     ]
    }
   ],
   "source": [
    "import math \n",
    "def haversine(lat1, lon1, lat2, lon2): \n",
    "    dLat = (lat2 - lat1) * math.pi / 180.0\n",
    "    dLon = (lon2 - lon1) * math.pi / 180.0\n",
    "\n",
    "    lat1 = (lat1) * math.pi / 180.0\n",
    "    lat2 = (lat2) * math.pi / 180.0\n",
    "\n",
    "    a = (pow(math.sin(dLat / 2), 2) + pow(math.sin(dLon / 2), 2) * math.cos(lat1) * math.cos(lat2)); \n",
    "    rad = 6371\n",
    "    c = 2 * math.asin(math.sqrt(a)) \n",
    "    return rad * c \n",
    "\n",
    "avg_dist = 0\n",
    "for orig, dest in zip(orig_points, dest_points):\n",
    "    avg_dist += haversine(orig.x, orig.y, dest.x, dest.y)\n",
    "print(avg_dist)"
   ]
  },
  {
   "cell_type": "markdown",
   "metadata": {},
   "source": [
    "## Задание №3. Points to map. 4 балла."
   ]
  },
  {
   "cell_type": "markdown",
   "metadata": {},
   "source": [
    "Aim is to plot a set of x and y coordinates that we should read from a `some_posts.csv`. The data has 81379 rows and consists of locations and times of social media posts inside Kruger national park in South Africa."
   ]
  },
  {
   "cell_type": "markdown",
   "metadata": {},
   "source": [
    "1. Read the data into memory.\n",
    "2. Create an empty column called `geometry` where you will store shapely _Point_ objects\n",
    "3. Iterate over the rows of the DataFrame (__x__ and __y__ -coordinates) and insert _Point_ objects into column `geometry`\n",
    "4. Convert that DataFrame into a GeoDataFrame\n",
    "5. Update the CRS for coordinate system as WGS84 (i.e. epsg code: 4326)\n",
    "6. Save the data into a Shapefile called `Kruger_posts.shp`\n",
    "7. Create a simple map of those points using .plot() -funtion"
   ]
  },
  {
   "cell_type": "markdown",
   "metadata": {},
   "source": [
    "`lat`: y-coordinate of the post\n",
    "\n",
    "`lon`: x-coordinate of the post\n",
    "\n",
    "`timestamp`: Time when the post was uploaded\n",
    "\n",
    "`userid`: userid"
   ]
  },
  {
   "cell_type": "code",
   "execution_count": 10,
   "metadata": {},
   "outputs": [
    {
     "name": "stdout",
     "output_type": "stream",
     "text": [
      "(81379, 5)\n"
     ]
    },
    {
     "data": {
      "text/html": [
       "<div>\n",
       "<style scoped>\n",
       "    .dataframe tbody tr th:only-of-type {\n",
       "        vertical-align: middle;\n",
       "    }\n",
       "\n",
       "    .dataframe tbody tr th {\n",
       "        vertical-align: top;\n",
       "    }\n",
       "\n",
       "    .dataframe thead th {\n",
       "        text-align: right;\n",
       "    }\n",
       "</style>\n",
       "<table border=\"1\" class=\"dataframe\">\n",
       "  <thead>\n",
       "    <tr style=\"text-align: right;\">\n",
       "      <th></th>\n",
       "      <th>lat</th>\n",
       "      <th>lon</th>\n",
       "      <th>timestamp</th>\n",
       "      <th>userid</th>\n",
       "      <th>geometry</th>\n",
       "    </tr>\n",
       "  </thead>\n",
       "  <tbody>\n",
       "    <tr>\n",
       "      <th>0</th>\n",
       "      <td>-24.980792</td>\n",
       "      <td>31.484633</td>\n",
       "      <td>2015-07-07 03:02</td>\n",
       "      <td>66487960</td>\n",
       "      <td>POINT (31.484633302 -24.980792492)</td>\n",
       "    </tr>\n",
       "    <tr>\n",
       "      <th>1</th>\n",
       "      <td>-25.499225</td>\n",
       "      <td>31.508906</td>\n",
       "      <td>2015-07-07 03:18</td>\n",
       "      <td>65281761</td>\n",
       "      <td>POINT (31.508905612 -25.499224667)</td>\n",
       "    </tr>\n",
       "    <tr>\n",
       "      <th>2</th>\n",
       "      <td>-24.342578</td>\n",
       "      <td>30.930866</td>\n",
       "      <td>2015-03-07 03:38</td>\n",
       "      <td>90916112</td>\n",
       "      <td>POINT (30.930866066 -24.342578456)</td>\n",
       "    </tr>\n",
       "    <tr>\n",
       "      <th>3</th>\n",
       "      <td>-24.854614</td>\n",
       "      <td>31.519718</td>\n",
       "      <td>2015-10-07 05:04</td>\n",
       "      <td>37959089</td>\n",
       "      <td>POINT (31.519718439 -24.85461393)</td>\n",
       "    </tr>\n",
       "    <tr>\n",
       "      <th>4</th>\n",
       "      <td>-24.921069</td>\n",
       "      <td>31.520836</td>\n",
       "      <td>2015-10-07 05:19</td>\n",
       "      <td>27793716</td>\n",
       "      <td>POINT (31.520835558 -24.921068894)</td>\n",
       "    </tr>\n",
       "  </tbody>\n",
       "</table>\n",
       "</div>"
      ],
      "text/plain": [
       "         lat        lon         timestamp    userid  \\\n",
       "0 -24.980792  31.484633  2015-07-07 03:02  66487960   \n",
       "1 -25.499225  31.508906  2015-07-07 03:18  65281761   \n",
       "2 -24.342578  30.930866  2015-03-07 03:38  90916112   \n",
       "3 -24.854614  31.519718  2015-10-07 05:04  37959089   \n",
       "4 -24.921069  31.520836  2015-10-07 05:19  27793716   \n",
       "\n",
       "                             geometry  \n",
       "0  POINT (31.484633302 -24.980792492)  \n",
       "1  POINT (31.508905612 -25.499224667)  \n",
       "2  POINT (30.930866066 -24.342578456)  \n",
       "3   POINT (31.519718439 -24.85461393)  \n",
       "4  POINT (31.520835558 -24.921068894)  "
      ]
     },
     "execution_count": 10,
     "metadata": {},
     "output_type": "execute_result"
    }
   ],
   "source": [
    "post = pd.read_csv(\"HW1_data/some_posts.txt\")\n",
    "post['geometry'] = post.apply(lambda x: Point(x['lon'], x['lat']), axis = 1)\n",
    "print(post.shape)\n",
    "post.head()"
   ]
  },
  {
   "cell_type": "code",
   "execution_count": 12,
   "metadata": {},
   "outputs": [],
   "source": [
    "import geopandas\n",
    "gdf = geopandas.GeoDataFrame(post, crs=crs, geometry='geometry')\n",
    "gdf = gdf.set_crs(epsg=4326)\n",
    "gdf.to_file(\"Kruger_posts.shp\")"
   ]
  },
  {
   "cell_type": "code",
   "execution_count": 14,
   "metadata": {},
   "outputs": [
    {
     "data": {
      "text/plain": [
       "<matplotlib.axes._subplots.AxesSubplot at 0x7fe3beab1250>"
      ]
     },
     "execution_count": 14,
     "metadata": {},
     "output_type": "execute_result"
    },
    {
     "data": {
      "image/png": "[encoded data removed]",
      "text/plain": [
       "<Figure size 1224x432 with 1 Axes>"
      ]
     },
     "metadata": {
      "needs_background": "light"
     },
     "output_type": "display_data"
    }
   ],
   "source": [
    "gdf.plot()"
   ]
  },
  {
   "cell_type": "markdown",
   "metadata": {},
   "source": [
    "## Задание №4. Movements of individual user. 6 баллов."
   ]
  },
  {
   "cell_type": "markdown",
   "metadata": {},
   "source": [
    "Please use data from previous task:"
   ]
  },
  {
   "cell_type": "markdown",
   "metadata": {},
   "source": [
    "1. Group the data by `userid`\n",
    "2. Create an empty GeoDataFrame\n",
    "3. For each user:\n",
    "   - sort the rows by `timestamp`\n",
    "   - create _LineString_ objects based on the points\n",
    "   - add the `geometry` and the `userid` into the GeoDataFrame you created in the last step\n",
    "4. Determine the CRS of your GeoDataFrame to WGS84 (epsg code: 4326)\n",
    "5. Save the movements of each user into a separate Shapefile\n",
    "   - Name the output Shapefile based on the `userid` number"
   ]
  },
  {
   "cell_type": "code",
   "execution_count": 15,
   "metadata": {},
   "outputs": [
    {
     "name": "stdout",
     "output_type": "stream",
     "text": [
      "(14990, 2)\n",
      "(9026, 2)\n"
     ]
    }
   ],
   "source": [
    "# Группируем по респондентам и исключаем тех, у кого только одна точка\n",
    "gr_grd = gdf.groupby(\"userid\").count().reset_index().rename(columns={\"lat\" : \"count\"})[[\"userid\", \"count\"]]\n",
    "print(gr_grd.shape)\n",
    "gr_grd = gr_grd[gr_grd[\"count\"] > 1]\n",
    "print(gr_grd.shape)"
   ]
  },
  {
   "cell_type": "code",
   "execution_count": 19,
   "metadata": {},
   "outputs": [
    {
     "name": "stdout",
     "output_type": "stream",
     "text": [
      "(9026, 2)\n"
     ]
    },
    {
     "data": {
      "text/html": [
       "<div>\n",
       "<style scoped>\n",
       "    .dataframe tbody tr th:only-of-type {\n",
       "        vertical-align: middle;\n",
       "    }\n",
       "\n",
       "    .dataframe tbody tr th {\n",
       "        vertical-align: top;\n",
       "    }\n",
       "\n",
       "    .dataframe thead th {\n",
       "        text-align: right;\n",
       "    }\n",
       "</style>\n",
       "<table border=\"1\" class=\"dataframe\">\n",
       "  <thead>\n",
       "    <tr style=\"text-align: right;\">\n",
       "      <th></th>\n",
       "      <th>userid</th>\n",
       "      <th>geometry</th>\n",
       "    </tr>\n",
       "  </thead>\n",
       "  <tbody>\n",
       "    <tr>\n",
       "      <th>0</th>\n",
       "      <td>16301</td>\n",
       "      <td>LINESTRING (31.37120 -24.75951, 31.33832 -24.7...</td>\n",
       "    </tr>\n",
       "    <tr>\n",
       "      <th>1</th>\n",
       "      <td>45136</td>\n",
       "      <td>LINESTRING (31.02582 -25.32131, 31.02582 -25.3...</td>\n",
       "    </tr>\n",
       "    <tr>\n",
       "      <th>2</th>\n",
       "      <td>50136</td>\n",
       "      <td>LINESTRING (31.39447 -24.76985, 31.59261 -24.9...</td>\n",
       "    </tr>\n",
       "    <tr>\n",
       "      <th>3</th>\n",
       "      <td>88775</td>\n",
       "      <td>LINESTRING (31.00036 -25.32947, 31.00036 -25.3...</td>\n",
       "    </tr>\n",
       "    <tr>\n",
       "      <th>4</th>\n",
       "      <td>88918</td>\n",
       "      <td>LINESTRING (31.55131 -25.06714, 31.59261 -24.9...</td>\n",
       "    </tr>\n",
       "  </tbody>\n",
       "</table>\n",
       "</div>"
      ],
      "text/plain": [
       "   userid                                           geometry\n",
       "0   16301  LINESTRING (31.37120 -24.75951, 31.33832 -24.7...\n",
       "1   45136  LINESTRING (31.02582 -25.32131, 31.02582 -25.3...\n",
       "2   50136  LINESTRING (31.39447 -24.76985, 31.59261 -24.9...\n",
       "3   88775  LINESTRING (31.00036 -25.32947, 31.00036 -25.3...\n",
       "4   88918  LINESTRING (31.55131 -25.06714, 31.59261 -24.9..."
      ]
     },
     "execution_count": 19,
     "metadata": {},
     "output_type": "execute_result"
    }
   ],
   "source": [
    "new_df = geopandas.GeoDataFrame()\n",
    "\n",
    "users_geo = []\n",
    "for user in list(gr_grd[\"userid\"].unique()):\n",
    "    temp = gdf[gdf[\"userid\"] == user].sort_values([\"timestamp\"])\n",
    "    points = []\n",
    "    for index, val in temp.iterrows():\n",
    "        points.append(val[\"geometry\"])\n",
    "    users_geo.append({\"userid\":user, \"geometry\":LineString(points)})\n",
    "    \n",
    "new_df = geopandas.GeoDataFrame(users_geo)\n",
    "new_df = new_df.set_crs(epsg = 4326)\n",
    "print(new_df.shape)\n",
    "new_df.head()"
   ]
  },
  {
   "cell_type": "code",
   "execution_count": 20,
   "metadata": {},
   "outputs": [],
   "source": [
    "for user in list(new_df[\"userid\"].unique()):\n",
    "    temp = new_df[new_df[\"userid\"] == user]\n",
    "    temp.to_file(\"HW1_data/users/\" + str(user) + \".shp\")"
   ]
  },
  {
   "cell_type": "markdown",
   "metadata": {},
   "source": [
    "## Задание №5. Join accessibility datasets into a grid and visualize them by using a classifier. 4 балла."
   ]
  },
  {
   "cell_type": "markdown",
   "metadata": {},
   "source": [
    "A dataset from `dataE4.zip` includes 7 text files containing data about accessibility in Helsinki Region and a Shapefile that contains a Polygon grid that can be used to visualize and analyze the data spatially. The datasets are:\n",
    "\n",
    " - `travel_times_to_[XXXXXXX]_[NAME-OF-THE-CENTER].txt` including travel times and road network distances to specific shopping center\n",
    " - `MetropAccess_YKR_grid_EurefFIN.shp` including the Polygon grid with __YKR_ID__ column that can be used to join the grid with the accessibility data\n",
    " \n",
    "Find out more about the data [here](https://blogs.helsinki.fi/accessibility/helsinki-region-travel-time-matrix-2015/)"
   ]
  },
  {
   "cell_type": "markdown",
   "metadata": {},
   "source": [
    "1. Read those travel_time data files (one by one) with Pandas and select only following columns from them:\n",
    "\n",
    " - `pt_r_tt`\n",
    " - `car_r_t`\n",
    " - `from_id`\n",
    " - `to_id`\n",
    "\n",
    "\n",
    "2. Visualize the classified travel times (Public transport AND Car) of at least one of the shopping centers using any classification method (see [PySAL](https://pysal.org/) for more details upon classification methods). You need to classify the data into a new column in your GeoDataFrame."
   ]
  },
  {
   "cell_type": "code",
   "execution_count": 21,
   "metadata": {},
   "outputs": [
    {
     "name": "stdout",
     "output_type": "stream",
     "text": [
      "(92617, 5)\n"
     ]
    },
    {
     "data": {
      "text/html": [
       "<div>\n",
       "<style scoped>\n",
       "    .dataframe tbody tr th:only-of-type {\n",
       "        vertical-align: middle;\n",
       "    }\n",
       "\n",
       "    .dataframe tbody tr th {\n",
       "        vertical-align: top;\n",
       "    }\n",
       "\n",
       "    .dataframe thead th {\n",
       "        text-align: right;\n",
       "    }\n",
       "</style>\n",
       "<table border=\"1\" class=\"dataframe\">\n",
       "  <thead>\n",
       "    <tr style=\"text-align: right;\">\n",
       "      <th></th>\n",
       "      <th>pt_r_tt</th>\n",
       "      <th>car_r_t</th>\n",
       "      <th>from_id</th>\n",
       "      <th>to_id</th>\n",
       "      <th>file</th>\n",
       "    </tr>\n",
       "  </thead>\n",
       "  <tbody>\n",
       "    <tr>\n",
       "      <th>0</th>\n",
       "      <td>147</td>\n",
       "      <td>56</td>\n",
       "      <td>5785640</td>\n",
       "      <td>5980260</td>\n",
       "      <td>HW1_data/dataE4/TravelTimes_to_5980260_Ruohola...</td>\n",
       "    </tr>\n",
       "    <tr>\n",
       "      <th>1</th>\n",
       "      <td>142</td>\n",
       "      <td>56</td>\n",
       "      <td>5785641</td>\n",
       "      <td>5980260</td>\n",
       "      <td>HW1_data/dataE4/TravelTimes_to_5980260_Ruohola...</td>\n",
       "    </tr>\n",
       "    <tr>\n",
       "      <th>2</th>\n",
       "      <td>142</td>\n",
       "      <td>63</td>\n",
       "      <td>5785642</td>\n",
       "      <td>5980260</td>\n",
       "      <td>HW1_data/dataE4/TravelTimes_to_5980260_Ruohola...</td>\n",
       "    </tr>\n",
       "    <tr>\n",
       "      <th>3</th>\n",
       "      <td>153</td>\n",
       "      <td>67</td>\n",
       "      <td>5785643</td>\n",
       "      <td>5980260</td>\n",
       "      <td>HW1_data/dataE4/TravelTimes_to_5980260_Ruohola...</td>\n",
       "    </tr>\n",
       "    <tr>\n",
       "      <th>4</th>\n",
       "      <td>130</td>\n",
       "      <td>55</td>\n",
       "      <td>5787544</td>\n",
       "      <td>5980260</td>\n",
       "      <td>HW1_data/dataE4/TravelTimes_to_5980260_Ruohola...</td>\n",
       "    </tr>\n",
       "  </tbody>\n",
       "</table>\n",
       "</div>"
      ],
      "text/plain": [
       "   pt_r_tt  car_r_t  from_id    to_id  \\\n",
       "0      147       56  5785640  5980260   \n",
       "1      142       56  5785641  5980260   \n",
       "2      142       63  5785642  5980260   \n",
       "3      153       67  5785643  5980260   \n",
       "4      130       55  5787544  5980260   \n",
       "\n",
       "                                                file  \n",
       "0  HW1_data/dataE4/TravelTimes_to_5980260_Ruohola...  \n",
       "1  HW1_data/dataE4/TravelTimes_to_5980260_Ruohola...  \n",
       "2  HW1_data/dataE4/TravelTimes_to_5980260_Ruohola...  \n",
       "3  HW1_data/dataE4/TravelTimes_to_5980260_Ruohola...  \n",
       "4  HW1_data/dataE4/TravelTimes_to_5980260_Ruohola...  "
      ]
     },
     "execution_count": 21,
     "metadata": {},
     "output_type": "execute_result"
    }
   ],
   "source": [
    "import os\n",
    "files = [\"HW1_data/dataE4/\" + str(file) for file in os.listdir(\"HW1_data/dataE4\") if \"TravelTimes\" in file]\n",
    "read_df = []\n",
    "columns = [\"pt_r_tt\", \"car_r_t\", \"from_id\", \"to_id\", \"file\"]\n",
    "for file in files:\n",
    "    df = pd.read_csv(file, sep=\";\")\n",
    "    df[\"file\"] = file\n",
    "    read_df.append(df[columns])\n",
    "    \n",
    "df = pd.concat(read_df)\n",
    "print(df.shape)\n",
    "df.head()"
   ]
  },
  {
   "cell_type": "code",
   "execution_count": 22,
   "metadata": {},
   "outputs": [
    {
     "name": "stdout",
     "output_type": "stream",
     "text": [
      "(13231, 5)\n"
     ]
    }
   ],
   "source": [
    "# Выбираем торговый центр\n",
    "df = df[df['file'] == \"HW1_data/dataE4/TravelTimes_to_5980260_Ruoholahti.txt\"]\n",
    "print(df.shape)"
   ]
  },
  {
   "cell_type": "code",
   "execution_count": 23,
   "metadata": {},
   "outputs": [
    {
     "name": "stdout",
     "output_type": "stream",
     "text": [
      "(13231, 5)\n",
      "(13020, 5)\n"
     ]
    }
   ],
   "source": [
    "print(df.shape)\n",
    "df = df.loc[(df['pt_r_tt'] >= 0) & (df['car_r_t'] >= 0)]\n",
    "print(df.shape)"
   ]
  },
  {
   "cell_type": "code",
   "execution_count": 24,
   "metadata": {},
   "outputs": [],
   "source": [
    "import mapclassify\n",
    "classifier = mapclassify.NaturalBreaks.make(k=10)\n",
    "df['class_pt'] = df[['pt_r_tt']].apply(classifier)\n",
    "df['class_car'] = df[['car_r_t']].apply(classifier)"
   ]
  },
  {
   "cell_type": "code",
   "execution_count": 25,
   "metadata": {},
   "outputs": [
    {
     "name": "stdout",
     "output_type": "stream",
     "text": [
      "<class 'geopandas.geodataframe.GeoDataFrame'>\n"
     ]
    },
    {
     "data": {
      "text/html": [
       "<div>\n",
       "<style scoped>\n",
       "    .dataframe tbody tr th:only-of-type {\n",
       "        vertical-align: middle;\n",
       "    }\n",
       "\n",
       "    .dataframe tbody tr th {\n",
       "        vertical-align: top;\n",
       "    }\n",
       "\n",
       "    .dataframe thead th {\n",
       "        text-align: right;\n",
       "    }\n",
       "</style>\n",
       "<table border=\"1\" class=\"dataframe\">\n",
       "  <thead>\n",
       "    <tr style=\"text-align: right;\">\n",
       "      <th></th>\n",
       "      <th>pt_r_tt</th>\n",
       "      <th>car_r_t</th>\n",
       "      <th>from_id</th>\n",
       "      <th>to_id</th>\n",
       "      <th>file</th>\n",
       "      <th>class_pt</th>\n",
       "      <th>class_car</th>\n",
       "    </tr>\n",
       "  </thead>\n",
       "  <tbody>\n",
       "    <tr>\n",
       "      <th>0</th>\n",
       "      <td>147</td>\n",
       "      <td>56</td>\n",
       "      <td>5785640</td>\n",
       "      <td>5980260</td>\n",
       "      <td>HW1_data/dataE4/TravelTimes_to_5980260_Ruohola...</td>\n",
       "      <td>9</td>\n",
       "      <td>8</td>\n",
       "    </tr>\n",
       "    <tr>\n",
       "      <th>1</th>\n",
       "      <td>142</td>\n",
       "      <td>56</td>\n",
       "      <td>5785641</td>\n",
       "      <td>5980260</td>\n",
       "      <td>HW1_data/dataE4/TravelTimes_to_5980260_Ruohola...</td>\n",
       "      <td>9</td>\n",
       "      <td>8</td>\n",
       "    </tr>\n",
       "    <tr>\n",
       "      <th>2</th>\n",
       "      <td>142</td>\n",
       "      <td>63</td>\n",
       "      <td>5785642</td>\n",
       "      <td>5980260</td>\n",
       "      <td>HW1_data/dataE4/TravelTimes_to_5980260_Ruohola...</td>\n",
       "      <td>9</td>\n",
       "      <td>9</td>\n",
       "    </tr>\n",
       "    <tr>\n",
       "      <th>3</th>\n",
       "      <td>153</td>\n",
       "      <td>67</td>\n",
       "      <td>5785643</td>\n",
       "      <td>5980260</td>\n",
       "      <td>HW1_data/dataE4/TravelTimes_to_5980260_Ruohola...</td>\n",
       "      <td>9</td>\n",
       "      <td>9</td>\n",
       "    </tr>\n",
       "    <tr>\n",
       "      <th>4</th>\n",
       "      <td>130</td>\n",
       "      <td>55</td>\n",
       "      <td>5787544</td>\n",
       "      <td>5980260</td>\n",
       "      <td>HW1_data/dataE4/TravelTimes_to_5980260_Ruohola...</td>\n",
       "      <td>8</td>\n",
       "      <td>8</td>\n",
       "    </tr>\n",
       "  </tbody>\n",
       "</table>\n",
       "</div>"
      ],
      "text/plain": [
       "   pt_r_tt  car_r_t  from_id    to_id  \\\n",
       "0      147       56  5785640  5980260   \n",
       "1      142       56  5785641  5980260   \n",
       "2      142       63  5785642  5980260   \n",
       "3      153       67  5785643  5980260   \n",
       "4      130       55  5787544  5980260   \n",
       "\n",
       "                                                file  class_pt  class_car  \n",
       "0  HW1_data/dataE4/TravelTimes_to_5980260_Ruohola...         9          8  \n",
       "1  HW1_data/dataE4/TravelTimes_to_5980260_Ruohola...         9          8  \n",
       "2  HW1_data/dataE4/TravelTimes_to_5980260_Ruohola...         9          9  \n",
       "3  HW1_data/dataE4/TravelTimes_to_5980260_Ruohola...         9          9  \n",
       "4  HW1_data/dataE4/TravelTimes_to_5980260_Ruohola...         8          8  "
      ]
     },
     "execution_count": 25,
     "metadata": {},
     "output_type": "execute_result"
    }
   ],
   "source": [
    "geo_df = geopandas.GeoDataFrame(df)\n",
    "print(type(geo_df))\n",
    "geo_df.head()"
   ]
  },
  {
   "cell_type": "code",
   "execution_count": 26,
   "metadata": {},
   "outputs": [
    {
     "name": "stdout",
     "output_type": "stream",
     "text": [
      "(13231, 4)\n"
     ]
    },
    {
     "data": {
      "text/html": [
       "<div>\n",
       "<style scoped>\n",
       "    .dataframe tbody tr th:only-of-type {\n",
       "        vertical-align: middle;\n",
       "    }\n",
       "\n",
       "    .dataframe tbody tr th {\n",
       "        vertical-align: top;\n",
       "    }\n",
       "\n",
       "    .dataframe thead th {\n",
       "        text-align: right;\n",
       "    }\n",
       "</style>\n",
       "<table border=\"1\" class=\"dataframe\">\n",
       "  <thead>\n",
       "    <tr style=\"text-align: right;\">\n",
       "      <th></th>\n",
       "      <th>x</th>\n",
       "      <th>y</th>\n",
       "      <th>YKR_ID</th>\n",
       "      <th>geometry</th>\n",
       "    </tr>\n",
       "  </thead>\n",
       "  <tbody>\n",
       "    <tr>\n",
       "      <th>0</th>\n",
       "      <td>381875.0</td>\n",
       "      <td>6697880.0</td>\n",
       "      <td>5785640</td>\n",
       "      <td>POLYGON ((382000.000 6697750.000, 381750.000 6...</td>\n",
       "    </tr>\n",
       "    <tr>\n",
       "      <th>1</th>\n",
       "      <td>382125.0</td>\n",
       "      <td>6697880.0</td>\n",
       "      <td>5785641</td>\n",
       "      <td>POLYGON ((382250.000 6697750.000, 382000.000 6...</td>\n",
       "    </tr>\n",
       "    <tr>\n",
       "      <th>2</th>\n",
       "      <td>382375.0</td>\n",
       "      <td>6697880.0</td>\n",
       "      <td>5785642</td>\n",
       "      <td>POLYGON ((382500.000 6697750.000, 382250.000 6...</td>\n",
       "    </tr>\n",
       "    <tr>\n",
       "      <th>3</th>\n",
       "      <td>382625.0</td>\n",
       "      <td>6697880.0</td>\n",
       "      <td>5785643</td>\n",
       "      <td>POLYGON ((382750.000 6697750.000, 382500.000 6...</td>\n",
       "    </tr>\n",
       "    <tr>\n",
       "      <th>4</th>\n",
       "      <td>381125.0</td>\n",
       "      <td>6697630.0</td>\n",
       "      <td>5787544</td>\n",
       "      <td>POLYGON ((381250.000 6697500.000, 381000.000 6...</td>\n",
       "    </tr>\n",
       "  </tbody>\n",
       "</table>\n",
       "</div>"
      ],
      "text/plain": [
       "          x          y   YKR_ID  \\\n",
       "0  381875.0  6697880.0  5785640   \n",
       "1  382125.0  6697880.0  5785641   \n",
       "2  382375.0  6697880.0  5785642   \n",
       "3  382625.0  6697880.0  5785643   \n",
       "4  381125.0  6697630.0  5787544   \n",
       "\n",
       "                                            geometry  \n",
       "0  POLYGON ((382000.000 6697750.000, 381750.000 6...  \n",
       "1  POLYGON ((382250.000 6697750.000, 382000.000 6...  \n",
       "2  POLYGON ((382500.000 6697750.000, 382250.000 6...  \n",
       "3  POLYGON ((382750.000 6697750.000, 382500.000 6...  \n",
       "4  POLYGON ((381250.000 6697500.000, 381000.000 6...  "
      ]
     },
     "execution_count": 26,
     "metadata": {},
     "output_type": "execute_result"
    }
   ],
   "source": [
    "gdf = geopandas.read_file(\"HW1_data/dataE4/MetropAccess_YKR_grid_EurefFIN.shp\")\n",
    "print(gdf.shape)\n",
    "gdf.head()"
   ]
  },
  {
   "cell_type": "code",
   "execution_count": 27,
   "metadata": {},
   "outputs": [],
   "source": [
    "geo_df = geo_df.merge(gdf, right_on=\"YKR_ID\", left_on=\"from_id\", how=\"left\")"
   ]
  },
  {
   "cell_type": "code",
   "execution_count": 28,
   "metadata": {},
   "outputs": [
    {
     "data": {
      "image/png": "[encoded data removed]",
      "text/plain": [
       "<Figure size 1224x432 with 2 Axes>"
      ]
     },
     "metadata": {
      "needs_background": "light"
     },
     "output_type": "display_data"
    }
   ],
   "source": [
    "geo_df.plot(column=\"class_pt\", linewidth=0, legend=True)\n",
    "plt.tight_layout()"
   ]
  },
  {
   "cell_type": "code",
   "execution_count": 29,
   "metadata": {},
   "outputs": [
    {
     "data": {
      "image/png": "[encoded data removed]",
      "text/plain": [
       "<Figure size 1224x432 with 2 Axes>"
      ]
     },
     "metadata": {
      "needs_background": "light"
     },
     "output_type": "display_data"
    }
   ],
   "source": [
    "geo_df.plot(column=\"class_car\", linewidth=0, legend=True)\n",
    "plt.tight_layout()"
   ]
  },
  {
   "cell_type": "markdown",
   "metadata": {},
   "source": [
    "## Задание №6. Calculate and visualize the dominance areas of shopping centers. 6 баллов."
   ]
  },
  {
   "cell_type": "markdown",
   "metadata": {},
   "source": [
    "Please use data from previous task. The aim is to define the dominance area for each of those shopping centers based on travel time:"
   ]
  },
  {
   "cell_type": "markdown",
   "metadata": {},
   "source": [
    "1. Iterate over the accessibility files one by one\n",
    "2. Rename the travel time columns so that they can be identified\n",
    "   - you can include e.g. the `to_id` number as part of the column name (then the column name could be e.g. \"pt_r_tt_5987221\")\n",
    "3. Join those columns into `MetropAccess_YKR_grid_EurefFIN.shp` where __YKR_ID__ in the grid corresponds to `from_id` in the travel time data file. At the end you should have a GeoDataFrame with different columns show the travel times to different shopping centers.\n",
    "4. For each row find out the __minimum__ value of __all__ `pt_r_tt_XXXXXX` columns and insert that value into a new column called `min_time_pt`. You can now also parse the `to_id` value from the column name (i.e. parse the last number-series from the column text) that had the minimum travel time value and insert that value as a number into a column called `dominant_service`. In this, way are able to determine the \"closest\" shopping center for each grid cell and visualize it either by travel times or by using the __YKR_ID__ number of the shopping center (i.e. that number series that was used in column name).\n",
    "5. Visualize the travel times of our `min_time_pt` column using any classifier.\n",
    "6. Visualize also the values in `dominant_service` column (no need to use any specific classifier). Notice that the value should be a number. If it is still as text, you need to convert it first."
   ]
  },
  {
   "cell_type": "code",
   "execution_count": 30,
   "metadata": {},
   "outputs": [
    {
     "name": "stdout",
     "output_type": "stream",
     "text": [
      "(13231, 20)\n"
     ]
    },
    {
     "data": {
      "text/html": [
       "<div>\n",
       "<style scoped>\n",
       "    .dataframe tbody tr th:only-of-type {\n",
       "        vertical-align: middle;\n",
       "    }\n",
       "\n",
       "    .dataframe tbody tr th {\n",
       "        vertical-align: top;\n",
       "    }\n",
       "\n",
       "    .dataframe thead th {\n",
       "        text-align: right;\n",
       "    }\n",
       "</style>\n",
       "<table border=\"1\" class=\"dataframe\">\n",
       "  <thead>\n",
       "    <tr style=\"text-align: right;\">\n",
       "      <th></th>\n",
       "      <th>YKR_ID</th>\n",
       "      <th>to_id</th>\n",
       "      <th>walk_t</th>\n",
       "      <th>walk_d</th>\n",
       "      <th>car_r_t</th>\n",
       "      <th>car_r_d</th>\n",
       "      <th>car_m_t</th>\n",
       "      <th>car_m_d</th>\n",
       "      <th>pt_r_t</th>\n",
       "      <th>pt_r_tt_5980260</th>\n",
       "      <th>pt_r_d</th>\n",
       "      <th>pt_m_t</th>\n",
       "      <th>pt_m_tt</th>\n",
       "      <th>pt_m_d</th>\n",
       "      <th>pt_r_tt_5902043</th>\n",
       "      <th>pt_r_tt_5944003</th>\n",
       "      <th>pt_r_tt_5878070</th>\n",
       "      <th>pt_r_tt_5878087</th>\n",
       "      <th>pt_r_tt_5975373</th>\n",
       "      <th>pt_r_tt_5978593</th>\n",
       "    </tr>\n",
       "  </thead>\n",
       "  <tbody>\n",
       "    <tr>\n",
       "      <th>0</th>\n",
       "      <td>5785640</td>\n",
       "      <td>5980260</td>\n",
       "      <td>468</td>\n",
       "      <td>32784</td>\n",
       "      <td>56</td>\n",
       "      <td>33768</td>\n",
       "      <td>49</td>\n",
       "      <td>33805</td>\n",
       "      <td>118</td>\n",
       "      <td>147</td>\n",
       "      <td>34474</td>\n",
       "      <td>125</td>\n",
       "      <td>156</td>\n",
       "      <td>34474</td>\n",
       "      <td>121</td>\n",
       "      <td>157</td>\n",
       "      <td>131</td>\n",
       "      <td>134</td>\n",
       "      <td>137</td>\n",
       "      <td>166</td>\n",
       "    </tr>\n",
       "    <tr>\n",
       "      <th>1</th>\n",
       "      <td>5785641</td>\n",
       "      <td>5980260</td>\n",
       "      <td>431</td>\n",
       "      <td>30168</td>\n",
       "      <td>56</td>\n",
       "      <td>33979</td>\n",
       "      <td>49</td>\n",
       "      <td>34016</td>\n",
       "      <td>121</td>\n",
       "      <td>142</td>\n",
       "      <td>34680</td>\n",
       "      <td>128</td>\n",
       "      <td>155</td>\n",
       "      <td>34680</td>\n",
       "      <td>115</td>\n",
       "      <td>154</td>\n",
       "      <td>129</td>\n",
       "      <td>130</td>\n",
       "      <td>134</td>\n",
       "      <td>164</td>\n",
       "    </tr>\n",
       "    <tr>\n",
       "      <th>2</th>\n",
       "      <td>5785642</td>\n",
       "      <td>5980260</td>\n",
       "      <td>432</td>\n",
       "      <td>30247</td>\n",
       "      <td>63</td>\n",
       "      <td>33380</td>\n",
       "      <td>56</td>\n",
       "      <td>31641</td>\n",
       "      <td>123</td>\n",
       "      <td>142</td>\n",
       "      <td>34797</td>\n",
       "      <td>130</td>\n",
       "      <td>156</td>\n",
       "      <td>34797</td>\n",
       "      <td>115</td>\n",
       "      <td>154</td>\n",
       "      <td>129</td>\n",
       "      <td>130</td>\n",
       "      <td>134</td>\n",
       "      <td>164</td>\n",
       "    </tr>\n",
       "    <tr>\n",
       "      <th>3</th>\n",
       "      <td>5785643</td>\n",
       "      <td>5980260</td>\n",
       "      <td>436</td>\n",
       "      <td>30540</td>\n",
       "      <td>67</td>\n",
       "      <td>35937</td>\n",
       "      <td>60</td>\n",
       "      <td>34198</td>\n",
       "      <td>127</td>\n",
       "      <td>153</td>\n",
       "      <td>35090</td>\n",
       "      <td>134</td>\n",
       "      <td>160</td>\n",
       "      <td>35090</td>\n",
       "      <td>126</td>\n",
       "      <td>163</td>\n",
       "      <td>138</td>\n",
       "      <td>140</td>\n",
       "      <td>144</td>\n",
       "      <td>174</td>\n",
       "    </tr>\n",
       "    <tr>\n",
       "      <th>4</th>\n",
       "      <td>5787544</td>\n",
       "      <td>5980260</td>\n",
       "      <td>461</td>\n",
       "      <td>32295</td>\n",
       "      <td>55</td>\n",
       "      <td>33342</td>\n",
       "      <td>48</td>\n",
       "      <td>33380</td>\n",
       "      <td>111</td>\n",
       "      <td>130</td>\n",
       "      <td>33984</td>\n",
       "      <td>118</td>\n",
       "      <td>135</td>\n",
       "      <td>33984</td>\n",
       "      <td>103</td>\n",
       "      <td>142</td>\n",
       "      <td>115</td>\n",
       "      <td>118</td>\n",
       "      <td>121</td>\n",
       "      <td>150</td>\n",
       "    </tr>\n",
       "  </tbody>\n",
       "</table>\n",
       "</div>"
      ],
      "text/plain": [
       "    YKR_ID    to_id  walk_t  walk_d  car_r_t  car_r_d  car_m_t  car_m_d  \\\n",
       "0  5785640  5980260     468   32784       56    33768       49    33805   \n",
       "1  5785641  5980260     431   30168       56    33979       49    34016   \n",
       "2  5785642  5980260     432   30247       63    33380       56    31641   \n",
       "3  5785643  5980260     436   30540       67    35937       60    34198   \n",
       "4  5787544  5980260     461   32295       55    33342       48    33380   \n",
       "\n",
       "   pt_r_t  pt_r_tt_5980260  pt_r_d  pt_m_t  pt_m_tt  pt_m_d  pt_r_tt_5902043  \\\n",
       "0     118              147   34474     125      156   34474              121   \n",
       "1     121              142   34680     128      155   34680              115   \n",
       "2     123              142   34797     130      156   34797              115   \n",
       "3     127              153   35090     134      160   35090              126   \n",
       "4     111              130   33984     118      135   33984              103   \n",
       "\n",
       "   pt_r_tt_5944003  pt_r_tt_5878070  pt_r_tt_5878087  pt_r_tt_5975373  \\\n",
       "0              157              131              134              137   \n",
       "1              154              129              130              134   \n",
       "2              154              129              130              134   \n",
       "3              163              138              140              144   \n",
       "4              142              115              118              121   \n",
       "\n",
       "   pt_r_tt_5978593  \n",
       "0              166  \n",
       "1              164  \n",
       "2              164  \n",
       "3              174  \n",
       "4              150  "
      ]
     },
     "execution_count": 30,
     "metadata": {},
     "output_type": "execute_result"
    }
   ],
   "source": [
    "import os\n",
    "files = [\"HW1_data/dataE4/\" + str(file) for file in os.listdir(\"HW1_data/dataE4\") if \"TravelTimes\" in file]\n",
    "\n",
    "df_list = []\n",
    "\n",
    "travel_times = pd.read_csv(files[0], sep=\";\")\n",
    "to_id = files[0].split(\"_\")[3]\n",
    "travel_times.rename(columns={\"pt_r_tt\": \"pt_r_tt_\"+to_id, \"from_id\":\"YKR_ID\"}, inplace=True)\n",
    "\n",
    "for file in files[1:]:\n",
    "    temp = pd.read_csv(file, sep=\";\")\n",
    "    to_id = file.split(\"_\")[3]\n",
    "    temp.rename(columns={\"pt_r_tt\": \"pt_r_tt_\"+to_id, \"from_id\":\"YKR_ID\"}, inplace=True)\n",
    "    travel_times = travel_times.merge(temp[[\"YKR_ID\", \"pt_r_tt_\"+to_id]], on=\"YKR_ID\", how=\"inner\")\n",
    "\n",
    "print(travel_times.shape)\n",
    "travel_times.head()"
   ]
  },
  {
   "cell_type": "code",
   "execution_count": 31,
   "metadata": {},
   "outputs": [
    {
     "name": "stdout",
     "output_type": "stream",
     "text": [
      "(13231, 4)\n"
     ]
    },
    {
     "data": {
      "text/html": [
       "<div>\n",
       "<style scoped>\n",
       "    .dataframe tbody tr th:only-of-type {\n",
       "        vertical-align: middle;\n",
       "    }\n",
       "\n",
       "    .dataframe tbody tr th {\n",
       "        vertical-align: top;\n",
       "    }\n",
       "\n",
       "    .dataframe thead th {\n",
       "        text-align: right;\n",
       "    }\n",
       "</style>\n",
       "<table border=\"1\" class=\"dataframe\">\n",
       "  <thead>\n",
       "    <tr style=\"text-align: right;\">\n",
       "      <th></th>\n",
       "      <th>x</th>\n",
       "      <th>y</th>\n",
       "      <th>YKR_ID</th>\n",
       "      <th>geometry</th>\n",
       "    </tr>\n",
       "  </thead>\n",
       "  <tbody>\n",
       "    <tr>\n",
       "      <th>0</th>\n",
       "      <td>381875.0</td>\n",
       "      <td>6697880.0</td>\n",
       "      <td>5785640</td>\n",
       "      <td>POLYGON ((382000.000 6697750.000, 381750.000 6...</td>\n",
       "    </tr>\n",
       "    <tr>\n",
       "      <th>1</th>\n",
       "      <td>382125.0</td>\n",
       "      <td>6697880.0</td>\n",
       "      <td>5785641</td>\n",
       "      <td>POLYGON ((382250.000 6697750.000, 382000.000 6...</td>\n",
       "    </tr>\n",
       "    <tr>\n",
       "      <th>2</th>\n",
       "      <td>382375.0</td>\n",
       "      <td>6697880.0</td>\n",
       "      <td>5785642</td>\n",
       "      <td>POLYGON ((382500.000 6697750.000, 382250.000 6...</td>\n",
       "    </tr>\n",
       "    <tr>\n",
       "      <th>3</th>\n",
       "      <td>382625.0</td>\n",
       "      <td>6697880.0</td>\n",
       "      <td>5785643</td>\n",
       "      <td>POLYGON ((382750.000 6697750.000, 382500.000 6...</td>\n",
       "    </tr>\n",
       "    <tr>\n",
       "      <th>4</th>\n",
       "      <td>381125.0</td>\n",
       "      <td>6697630.0</td>\n",
       "      <td>5787544</td>\n",
       "      <td>POLYGON ((381250.000 6697500.000, 381000.000 6...</td>\n",
       "    </tr>\n",
       "  </tbody>\n",
       "</table>\n",
       "</div>"
      ],
      "text/plain": [
       "          x          y   YKR_ID  \\\n",
       "0  381875.0  6697880.0  5785640   \n",
       "1  382125.0  6697880.0  5785641   \n",
       "2  382375.0  6697880.0  5785642   \n",
       "3  382625.0  6697880.0  5785643   \n",
       "4  381125.0  6697630.0  5787544   \n",
       "\n",
       "                                            geometry  \n",
       "0  POLYGON ((382000.000 6697750.000, 381750.000 6...  \n",
       "1  POLYGON ((382250.000 6697750.000, 382000.000 6...  \n",
       "2  POLYGON ((382500.000 6697750.000, 382250.000 6...  \n",
       "3  POLYGON ((382750.000 6697750.000, 382500.000 6...  \n",
       "4  POLYGON ((381250.000 6697500.000, 381000.000 6...  "
      ]
     },
     "execution_count": 31,
     "metadata": {},
     "output_type": "execute_result"
    }
   ],
   "source": [
    "gdf = geopandas.read_file(\"HW1_data/dataE4/MetropAccess_YKR_grid_EurefFIN.shp\")\n",
    "print(gdf.shape)\n",
    "gdf.head()"
   ]
  },
  {
   "cell_type": "code",
   "execution_count": 32,
   "metadata": {},
   "outputs": [
    {
     "name": "stdout",
     "output_type": "stream",
     "text": [
      "(13231, 4)\n",
      "(13231, 11)\n"
     ]
    },
    {
     "data": {
      "text/html": [
       "<div>\n",
       "<style scoped>\n",
       "    .dataframe tbody tr th:only-of-type {\n",
       "        vertical-align: middle;\n",
       "    }\n",
       "\n",
       "    .dataframe tbody tr th {\n",
       "        vertical-align: top;\n",
       "    }\n",
       "\n",
       "    .dataframe thead th {\n",
       "        text-align: right;\n",
       "    }\n",
       "</style>\n",
       "<table border=\"1\" class=\"dataframe\">\n",
       "  <thead>\n",
       "    <tr style=\"text-align: right;\">\n",
       "      <th></th>\n",
       "      <th>x</th>\n",
       "      <th>y</th>\n",
       "      <th>YKR_ID</th>\n",
       "      <th>geometry</th>\n",
       "      <th>pt_r_tt_5980260</th>\n",
       "      <th>pt_r_tt_5902043</th>\n",
       "      <th>pt_r_tt_5944003</th>\n",
       "      <th>pt_r_tt_5878070</th>\n",
       "      <th>pt_r_tt_5878087</th>\n",
       "      <th>pt_r_tt_5975373</th>\n",
       "      <th>pt_r_tt_5978593</th>\n",
       "    </tr>\n",
       "  </thead>\n",
       "  <tbody>\n",
       "    <tr>\n",
       "      <th>0</th>\n",
       "      <td>381875.0</td>\n",
       "      <td>6697880.0</td>\n",
       "      <td>5785640</td>\n",
       "      <td>POLYGON ((382000.000 6697750.000, 381750.000 6...</td>\n",
       "      <td>147</td>\n",
       "      <td>121</td>\n",
       "      <td>157</td>\n",
       "      <td>131</td>\n",
       "      <td>134</td>\n",
       "      <td>137</td>\n",
       "      <td>166</td>\n",
       "    </tr>\n",
       "    <tr>\n",
       "      <th>1</th>\n",
       "      <td>382125.0</td>\n",
       "      <td>6697880.0</td>\n",
       "      <td>5785641</td>\n",
       "      <td>POLYGON ((382250.000 6697750.000, 382000.000 6...</td>\n",
       "      <td>142</td>\n",
       "      <td>115</td>\n",
       "      <td>154</td>\n",
       "      <td>129</td>\n",
       "      <td>130</td>\n",
       "      <td>134</td>\n",
       "      <td>164</td>\n",
       "    </tr>\n",
       "    <tr>\n",
       "      <th>2</th>\n",
       "      <td>382375.0</td>\n",
       "      <td>6697880.0</td>\n",
       "      <td>5785642</td>\n",
       "      <td>POLYGON ((382500.000 6697750.000, 382250.000 6...</td>\n",
       "      <td>142</td>\n",
       "      <td>115</td>\n",
       "      <td>154</td>\n",
       "      <td>129</td>\n",
       "      <td>130</td>\n",
       "      <td>134</td>\n",
       "      <td>164</td>\n",
       "    </tr>\n",
       "    <tr>\n",
       "      <th>3</th>\n",
       "      <td>382625.0</td>\n",
       "      <td>6697880.0</td>\n",
       "      <td>5785643</td>\n",
       "      <td>POLYGON ((382750.000 6697750.000, 382500.000 6...</td>\n",
       "      <td>153</td>\n",
       "      <td>126</td>\n",
       "      <td>163</td>\n",
       "      <td>138</td>\n",
       "      <td>140</td>\n",
       "      <td>144</td>\n",
       "      <td>174</td>\n",
       "    </tr>\n",
       "    <tr>\n",
       "      <th>4</th>\n",
       "      <td>381125.0</td>\n",
       "      <td>6697630.0</td>\n",
       "      <td>5787544</td>\n",
       "      <td>POLYGON ((381250.000 6697500.000, 381000.000 6...</td>\n",
       "      <td>130</td>\n",
       "      <td>103</td>\n",
       "      <td>142</td>\n",
       "      <td>115</td>\n",
       "      <td>118</td>\n",
       "      <td>121</td>\n",
       "      <td>150</td>\n",
       "    </tr>\n",
       "  </tbody>\n",
       "</table>\n",
       "</div>"
      ],
      "text/plain": [
       "          x          y   YKR_ID  \\\n",
       "0  381875.0  6697880.0  5785640   \n",
       "1  382125.0  6697880.0  5785641   \n",
       "2  382375.0  6697880.0  5785642   \n",
       "3  382625.0  6697880.0  5785643   \n",
       "4  381125.0  6697630.0  5787544   \n",
       "\n",
       "                                            geometry  pt_r_tt_5980260  \\\n",
       "0  POLYGON ((382000.000 6697750.000, 381750.000 6...              147   \n",
       "1  POLYGON ((382250.000 6697750.000, 382000.000 6...              142   \n",
       "2  POLYGON ((382500.000 6697750.000, 382250.000 6...              142   \n",
       "3  POLYGON ((382750.000 6697750.000, 382500.000 6...              153   \n",
       "4  POLYGON ((381250.000 6697500.000, 381000.000 6...              130   \n",
       "\n",
       "   pt_r_tt_5902043  pt_r_tt_5944003  pt_r_tt_5878070  pt_r_tt_5878087  \\\n",
       "0              121              157              131              134   \n",
       "1              115              154              129              130   \n",
       "2              115              154              129              130   \n",
       "3              126              163              138              140   \n",
       "4              103              142              115              118   \n",
       "\n",
       "   pt_r_tt_5975373  pt_r_tt_5978593  \n",
       "0              137              166  \n",
       "1              134              164  \n",
       "2              134              164  \n",
       "3              144              174  \n",
       "4              121              150  "
      ]
     },
     "execution_count": 32,
     "metadata": {},
     "output_type": "execute_result"
    }
   ],
   "source": [
    "columns = [\"YKR_ID\", \"pt_r_tt_5980260\", \"pt_r_tt_5902043\", \"pt_r_tt_5944003\", \"pt_r_tt_5878070\", \"pt_r_tt_5878087\", \"pt_r_tt_5975373\", \"pt_r_tt_5978593\"]\n",
    "print(gdf.shape)\n",
    "gdf = gdf.merge(travel_times[columns], on=\"YKR_ID\", how=\"inner\")\n",
    "print(gdf.shape)\n",
    "gdf.head()"
   ]
  },
  {
   "cell_type": "code",
   "execution_count": 33,
   "metadata": {},
   "outputs": [
    {
     "data": {
      "text/html": [
       "<div>\n",
       "<style scoped>\n",
       "    .dataframe tbody tr th:only-of-type {\n",
       "        vertical-align: middle;\n",
       "    }\n",
       "\n",
       "    .dataframe tbody tr th {\n",
       "        vertical-align: top;\n",
       "    }\n",
       "\n",
       "    .dataframe thead th {\n",
       "        text-align: right;\n",
       "    }\n",
       "</style>\n",
       "<table border=\"1\" class=\"dataframe\">\n",
       "  <thead>\n",
       "    <tr style=\"text-align: right;\">\n",
       "      <th></th>\n",
       "      <th>x</th>\n",
       "      <th>y</th>\n",
       "      <th>YKR_ID</th>\n",
       "      <th>geometry</th>\n",
       "      <th>pt_r_tt_5980260</th>\n",
       "      <th>pt_r_tt_5902043</th>\n",
       "      <th>pt_r_tt_5944003</th>\n",
       "      <th>pt_r_tt_5878070</th>\n",
       "      <th>pt_r_tt_5878087</th>\n",
       "      <th>pt_r_tt_5975373</th>\n",
       "      <th>pt_r_tt_5978593</th>\n",
       "      <th>min_time_pt</th>\n",
       "      <th>dominant_service</th>\n",
       "    </tr>\n",
       "  </thead>\n",
       "  <tbody>\n",
       "    <tr>\n",
       "      <th>0</th>\n",
       "      <td>381875.0</td>\n",
       "      <td>6697880.0</td>\n",
       "      <td>5785640</td>\n",
       "      <td>POLYGON ((382000.000 6697750.000, 381750.000 6...</td>\n",
       "      <td>147</td>\n",
       "      <td>121</td>\n",
       "      <td>157</td>\n",
       "      <td>131</td>\n",
       "      <td>134</td>\n",
       "      <td>137</td>\n",
       "      <td>166</td>\n",
       "      <td>121</td>\n",
       "      <td>pt_r_tt_5902043</td>\n",
       "    </tr>\n",
       "    <tr>\n",
       "      <th>1</th>\n",
       "      <td>382125.0</td>\n",
       "      <td>6697880.0</td>\n",
       "      <td>5785641</td>\n",
       "      <td>POLYGON ((382250.000 6697750.000, 382000.000 6...</td>\n",
       "      <td>142</td>\n",
       "      <td>115</td>\n",
       "      <td>154</td>\n",
       "      <td>129</td>\n",
       "      <td>130</td>\n",
       "      <td>134</td>\n",
       "      <td>164</td>\n",
       "      <td>115</td>\n",
       "      <td>pt_r_tt_5902043</td>\n",
       "    </tr>\n",
       "    <tr>\n",
       "      <th>2</th>\n",
       "      <td>382375.0</td>\n",
       "      <td>6697880.0</td>\n",
       "      <td>5785642</td>\n",
       "      <td>POLYGON ((382500.000 6697750.000, 382250.000 6...</td>\n",
       "      <td>142</td>\n",
       "      <td>115</td>\n",
       "      <td>154</td>\n",
       "      <td>129</td>\n",
       "      <td>130</td>\n",
       "      <td>134</td>\n",
       "      <td>164</td>\n",
       "      <td>115</td>\n",
       "      <td>pt_r_tt_5902043</td>\n",
       "    </tr>\n",
       "    <tr>\n",
       "      <th>3</th>\n",
       "      <td>382625.0</td>\n",
       "      <td>6697880.0</td>\n",
       "      <td>5785643</td>\n",
       "      <td>POLYGON ((382750.000 6697750.000, 382500.000 6...</td>\n",
       "      <td>153</td>\n",
       "      <td>126</td>\n",
       "      <td>163</td>\n",
       "      <td>138</td>\n",
       "      <td>140</td>\n",
       "      <td>144</td>\n",
       "      <td>174</td>\n",
       "      <td>126</td>\n",
       "      <td>pt_r_tt_5902043</td>\n",
       "    </tr>\n",
       "    <tr>\n",
       "      <th>4</th>\n",
       "      <td>381125.0</td>\n",
       "      <td>6697630.0</td>\n",
       "      <td>5787544</td>\n",
       "      <td>POLYGON ((381250.000 6697500.000, 381000.000 6...</td>\n",
       "      <td>130</td>\n",
       "      <td>103</td>\n",
       "      <td>142</td>\n",
       "      <td>115</td>\n",
       "      <td>118</td>\n",
       "      <td>121</td>\n",
       "      <td>150</td>\n",
       "      <td>103</td>\n",
       "      <td>pt_r_tt_5902043</td>\n",
       "    </tr>\n",
       "  </tbody>\n",
       "</table>\n",
       "</div>"
      ],
      "text/plain": [
       "          x          y   YKR_ID  \\\n",
       "0  381875.0  6697880.0  5785640   \n",
       "1  382125.0  6697880.0  5785641   \n",
       "2  382375.0  6697880.0  5785642   \n",
       "3  382625.0  6697880.0  5785643   \n",
       "4  381125.0  6697630.0  5787544   \n",
       "\n",
       "                                            geometry  pt_r_tt_5980260  \\\n",
       "0  POLYGON ((382000.000 6697750.000, 381750.000 6...              147   \n",
       "1  POLYGON ((382250.000 6697750.000, 382000.000 6...              142   \n",
       "2  POLYGON ((382500.000 6697750.000, 382250.000 6...              142   \n",
       "3  POLYGON ((382750.000 6697750.000, 382500.000 6...              153   \n",
       "4  POLYGON ((381250.000 6697500.000, 381000.000 6...              130   \n",
       "\n",
       "   pt_r_tt_5902043  pt_r_tt_5944003  pt_r_tt_5878070  pt_r_tt_5878087  \\\n",
       "0              121              157              131              134   \n",
       "1              115              154              129              130   \n",
       "2              115              154              129              130   \n",
       "3              126              163              138              140   \n",
       "4              103              142              115              118   \n",
       "\n",
       "   pt_r_tt_5975373  pt_r_tt_5978593  min_time_pt dominant_service  \n",
       "0              137              166          121  pt_r_tt_5902043  \n",
       "1              134              164          115  pt_r_tt_5902043  \n",
       "2              134              164          115  pt_r_tt_5902043  \n",
       "3              144              174          126  pt_r_tt_5902043  \n",
       "4              121              150          103  pt_r_tt_5902043  "
      ]
     },
     "execution_count": 33,
     "metadata": {},
     "output_type": "execute_result"
    }
   ],
   "source": [
    "gdf[\"min_time_pt\"] = gdf.apply(lambda x: min(x[columns[1:]]), axis=1)\n",
    "gdf[\"dominant_service\"] = gdf.apply(lambda x: columns[list(x[columns[1:]].values).index(min(x[columns[1:]]))+1], axis=1)\n",
    "gdf.head()"
   ]
  },
  {
   "cell_type": "code",
   "execution_count": 34,
   "metadata": {},
   "outputs": [],
   "source": [
    "classifier = mapclassify.NaturalBreaks.make(k=5)\n",
    "gdf['class_pt'] = gdf[['min_time_pt']].apply(classifier)"
   ]
  },
  {
   "cell_type": "code",
   "execution_count": 35,
   "metadata": {},
   "outputs": [
    {
     "data": {
      "image/png": "[encoded data removed]",
      "text/plain": [
       "<Figure size 1224x432 with 2 Axes>"
      ]
     },
     "metadata": {
      "needs_background": "light"
     },
     "output_type": "display_data"
    }
   ],
   "source": [
    "gdf.plot(column=\"class_pt\", linewidth=0, legend=True)\n",
    "plt.tight_layout()"
   ]
  },
  {
   "cell_type": "code",
   "execution_count": 36,
   "metadata": {},
   "outputs": [
    {
     "data": {
      "text/html": [
       "<div>\n",
       "<style scoped>\n",
       "    .dataframe tbody tr th:only-of-type {\n",
       "        vertical-align: middle;\n",
       "    }\n",
       "\n",
       "    .dataframe tbody tr th {\n",
       "        vertical-align: top;\n",
       "    }\n",
       "\n",
       "    .dataframe thead th {\n",
       "        text-align: right;\n",
       "    }\n",
       "</style>\n",
       "<table border=\"1\" class=\"dataframe\">\n",
       "  <thead>\n",
       "    <tr style=\"text-align: right;\">\n",
       "      <th></th>\n",
       "      <th>x</th>\n",
       "      <th>y</th>\n",
       "      <th>YKR_ID</th>\n",
       "      <th>geometry</th>\n",
       "      <th>pt_r_tt_5980260</th>\n",
       "      <th>pt_r_tt_5902043</th>\n",
       "      <th>pt_r_tt_5944003</th>\n",
       "      <th>pt_r_tt_5878070</th>\n",
       "      <th>pt_r_tt_5878087</th>\n",
       "      <th>pt_r_tt_5975373</th>\n",
       "      <th>pt_r_tt_5978593</th>\n",
       "      <th>min_time_pt</th>\n",
       "      <th>dominant_service</th>\n",
       "      <th>class_pt</th>\n",
       "      <th>dominant_service_cat</th>\n",
       "    </tr>\n",
       "  </thead>\n",
       "  <tbody>\n",
       "    <tr>\n",
       "      <th>0</th>\n",
       "      <td>381875.0</td>\n",
       "      <td>6697880.0</td>\n",
       "      <td>5785640</td>\n",
       "      <td>POLYGON ((382000.000 6697750.000, 381750.000 6...</td>\n",
       "      <td>147</td>\n",
       "      <td>121</td>\n",
       "      <td>157</td>\n",
       "      <td>131</td>\n",
       "      <td>134</td>\n",
       "      <td>137</td>\n",
       "      <td>166</td>\n",
       "      <td>121</td>\n",
       "      <td>pt_r_tt_5902043</td>\n",
       "      <td>4</td>\n",
       "      <td>2</td>\n",
       "    </tr>\n",
       "  </tbody>\n",
       "</table>\n",
       "</div>"
      ],
      "text/plain": [
       "          x          y   YKR_ID  \\\n",
       "0  381875.0  6697880.0  5785640   \n",
       "\n",
       "                                            geometry  pt_r_tt_5980260  \\\n",
       "0  POLYGON ((382000.000 6697750.000, 381750.000 6...              147   \n",
       "\n",
       "   pt_r_tt_5902043  pt_r_tt_5944003  pt_r_tt_5878070  pt_r_tt_5878087  \\\n",
       "0              121              157              131              134   \n",
       "\n",
       "   pt_r_tt_5975373  pt_r_tt_5978593  min_time_pt dominant_service  class_pt  \\\n",
       "0              137              166          121  pt_r_tt_5902043         4   \n",
       "\n",
       "   dominant_service_cat  \n",
       "0                     2  "
      ]
     },
     "execution_count": 36,
     "metadata": {},
     "output_type": "execute_result"
    }
   ],
   "source": [
    "dominant_service = {\n",
    "    \"pt_r_tt_5980260\" : 1, \n",
    "    \"pt_r_tt_5902043\" : 2, \n",
    "    \"pt_r_tt_5944003\" : 3, \n",
    "    \"pt_r_tt_5878070\" : 4,\n",
    "    \"pt_r_tt_5878087\" : 5,\n",
    "    \"pt_r_tt_5975373\" : 6, \n",
    "    \"pt_r_tt_5978593\" : 7\n",
    "}\n",
    "\n",
    "gdf[\"dominant_service_cat\"] = gdf[\"dominant_service\"].map(dominant_service)\n",
    "gdf.head(1)"
   ]
  },
  {
   "cell_type": "code",
   "execution_count": 37,
   "metadata": {},
   "outputs": [
    {
     "data": {
      "image/png": "[encoded data removed]",
      "text/plain": [
       "<Figure size 1224x432 with 2 Axes>"
      ]
     },
     "metadata": {
      "needs_background": "light"
     },
     "output_type": "display_data"
    }
   ],
   "source": [
    "gdf.plot(column=\"dominant_service_cat\", linewidth=0, legend=True)\n",
    "plt.tight_layout()"
   ]
  },
  {
   "cell_type": "code",
   "execution_count": null,
   "metadata": {},
   "outputs": [],
   "source": []
  }
 ],
 "metadata": {
  "kernelspec": {
   "display_name": "Python 3",
   "language": "python",
   "name": "python3"
  },
  "language_info": {
   "codemirror_mode": {
    "name": "ipython",
    "version": 3
   },
   "file_extension": ".py",
   "mimetype": "text/x-python",
   "name": "python",
   "nbconvert_exporter": "python",
   "pygments_lexer": "ipython3",
   "version": "3.8.3"
  }
 },
 "nbformat": 4,
 "nbformat_minor": 4
}
