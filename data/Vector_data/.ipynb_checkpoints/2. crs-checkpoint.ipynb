{
 "cells": [
  {
   "cell_type": "markdown",
   "metadata": {},
   "source": [
    "Link: https://www.earthdatascience.org/courses/use-data-open-source-python/intro-vector-data-python/spatial-data-vector-shapefiles/intro-to-coordinate-reference-systems-python/"
   ]
  },
  {
   "cell_type": "markdown",
   "metadata": {},
   "source": [
    "**Datum:** A model of the shape of the earth. It has angular units (i.e. degrees) and defines the starting point (i.e. where is (0,0)?) so the angles reference a meaningful spot on the earth. Common global datums are WGS84 and NAD83. Datums can also be local - fit to a particular area of the globe, but ill-fitting outside the area of intended use. In this workshop, we will use the WGS84 datum. (https://ru.wikipedia.org/wiki/%D0%94%D0%B0%D1%82%D1%83%D0%BC)\n",
    "\n",
    "**Projection:** A mathematical transformation of the angular measurements on a round earth to a flat surface (i.e. paper or a computer screen). The units associated with a given projection are usually linear (feet, meters, etc.). In this workshop, we will see data in two different projections.\n",
    "\n",
    "**Additional Parameters:** Additional parameters are often necessary to create the full coordinate reference system. One common additional parameter is a definition of the center of the map. The number of required additional parameters depends on what is needed by each specific projection."
   ]
  },
  {
   "cell_type": "code",
   "execution_count": null,
   "metadata": {},
   "outputs": [],
   "source": [
    "import os \n",
    "import numpy as np\n",
    "import pandas as pd\n",
    "import matplotlib.pyplot as plt\n",
    "from matplotlib.ticker import ScalarFormatter\n",
    "import seaborn as sns\n",
    "import geopandas as gpd\n",
    "from shapely.geometry import Point\n",
    "import earthpy as et \n",
    "\n",
    "# Adjust plot font sizes\n",
    "sns.set(font_scale=1.5)\n",
    "sns.set_style(\"white\")\n",
    "\n",
    "# Set working dir & get data\n",
    "data = et.data.get_data('spatial-vector-lidar')\n",
    "os.chdir(os.path.join(et.io.HOME, 'earth-analytics'))"
   ]
  },
  {
   "cell_type": "code",
   "execution_count": null,
   "metadata": {},
   "outputs": [],
   "source": [
    "# Import world boundary shapefile\n",
    "worldBound_path = os.path.join(\"data\", \"spatial-vector-lidar\", \"global\", \n",
    "                               \"ne_110m_land\", \"ne_110m_land.shp\")\n",
    "worldBound = gpd.read_file(worldBound_path)"
   ]
  },
  {
   "cell_type": "code",
   "execution_count": null,
   "metadata": {},
   "outputs": [],
   "source": [
    "# Plot worldBound data using geopandas\n",
    "fig, ax = plt.subplots(figsize=(10, 5))\n",
    "worldBound.plot(color='darkgrey', \n",
    "                ax=ax)\n",
    "# Set the x and y axis labels\n",
    "ax.set(xlabel=\"Longitude (Degrees)\",\n",
    "       ylabel=\"Latitude (Degrees)\",\n",
    "       title=\"Global Map - Geographic Coordinate System - WGS84 Datum\\n Units: Degrees - Latitude / Longitude\")\n",
    "\n",
    "# Add the x y graticules\n",
    "ax.set_axisbelow(True)\n",
    "ax.yaxis.grid(color='gray', \n",
    "              linestyle='dashed')\n",
    "ax.xaxis.grid(color='gray', \n",
    "              linestyle='dashed')"
   ]
  },
  {
   "cell_type": "code",
   "execution_count": null,
   "metadata": {},
   "outputs": [],
   "source": [
    "# Create numpy array of x,y point locations\n",
    "add_points = np.array([[-105.2519,   40.0274], \n",
    "                       [  10.75  ,   59.95  ], \n",
    "                       [   2.9833,   39.6167]])\n",
    "\n",
    "# Turn points into list of x,y shapely points \n",
    "city_locations = [Point(xy) for xy in add_points]\n",
    "city_locations"
   ]
  },
  {
   "cell_type": "code",
   "execution_count": null,
   "metadata": {},
   "outputs": [],
   "source": [
    "# Create geodataframe using the points\n",
    "city_locations = gpd.GeoDataFrame(city_locations, \n",
    "                                  columns=['geometry'],\n",
    "                                  crs=worldBound.crs)\n",
    "city_locations.head(3)"
   ]
  },
  {
   "cell_type": "code",
   "execution_count": null,
   "metadata": {},
   "outputs": [],
   "source": [
    "# Plot point locations\n",
    "fig, ax = plt.subplots(figsize=(12, 8))\n",
    "\n",
    "worldBound.plot(figsize=(10, 5), color='k',\n",
    "               ax=ax)\n",
    "# Add city locations\n",
    "city_locations.plot(ax=ax, \n",
    "                    color='springgreen', \n",
    "                    marker='*',\n",
    "                    markersize=45)\n",
    "\n",
    "# Setup x y axes with labels and add graticules\n",
    "ax.set(xlabel=\"Longitude (Degrees)\", ylabel=\"Latitude (Degrees)\",\n",
    "       title=\"Global Map - Geographic Coordinate System - WGS84 Datum\\n Units: Degrees - Latitude / Longitude\")\n",
    "ax.set_axisbelow(True)\n",
    "ax.yaxis.grid(color='gray', linestyle='dashed')\n",
    "ax.xaxis.grid(color='gray', linestyle='dashed')"
   ]
  },
  {
   "cell_type": "code",
   "execution_count": null,
   "metadata": {},
   "outputs": [],
   "source": [
    "# Import graticule & world bounding box shapefile data\n",
    "graticule_path = os.path.join(\"data\", \"spatial-vector-lidar\", \"global\", \n",
    "                              \"ne_110m_graticules_all\", \"ne_110m_graticules_15.shp\")\n",
    "graticule = gpd.read_file(graticule_path)\n",
    "\n",
    "bbox_path = os.path.join(\"data\", \"spatial-vector-lidar\", \"global\", \n",
    "                         \"ne_110m_graticules_all\", \"ne_110m_wgs84_bounding_box.shp\")\n",
    "bbox = gpd.read_file(bbox_path)\n",
    "\n",
    "# Create map axis object\n",
    "fig, ax = plt.subplots(1, 1, figsize=(15, 8))\n",
    "\n",
    "# Add bounding box and graticule layers\n",
    "bbox.plot(ax=ax, alpha=.1, color='grey')\n",
    "graticule.plot(ax=ax, color='lightgrey')\n",
    "worldBound.plot(ax=ax, color='black')\n",
    "\n",
    "# Add points to plot \n",
    "city_locations.plot(ax=ax, \n",
    "                    markersize=60, \n",
    "                    color='springgreen',\n",
    "                    marker='*')\n",
    "# Add title and axes labels\n",
    "ax.set(title=\"World Map - Geographic Coordinate Reference System (long/lat degrees)\",\n",
    "       xlabel=\"X Coordinates (meters)\",\n",
    "       ylabel=\"Y Coordinates (meters)\");"
   ]
  },
  {
   "cell_type": "markdown",
   "metadata": {},
   "source": [
    "Преобразование координат: https://ru.wikipedia.org/wiki/%D0%9F%D1%80%D0%B5%D0%BE%D0%B1%D1%80%D0%B0%D0%B7%D0%BE%D0%B2%D0%B0%D0%BD%D0%B8%D0%B5_%D0%B3%D0%B5%D0%BE%D0%B4%D0%B5%D0%B7%D0%B8%D1%87%D0%B5%D1%81%D0%BA%D0%B8%D1%85_%D1%81%D0%B8%D1%81%D1%82%D0%B5%D0%BC_%D0%BA%D0%BE%D0%BE%D1%80%D0%B4%D0%B8%D0%BD%D0%B0%D1%82"
   ]
  },
  {
   "cell_type": "markdown",
   "metadata": {},
   "source": [
    "Haversine formula:\n",
    "\n",
    "https://courses.spatialthoughts.com/python-foundation.html#the-python-standard-library\n",
    "\n",
    "https://en.wikipedia.org/wiki/Haversine_formula"
   ]
  },
  {
   "cell_type": "markdown",
   "metadata": {},
   "source": [
    "Vincenty formula: https://en.wikipedia.org/wiki/Vincenty%27s_formulae"
   ]
  },
  {
   "cell_type": "code",
   "execution_count": null,
   "metadata": {},
   "outputs": [],
   "source": [
    "# Reproject the data\n",
    "worldBound_robin = worldBound.to_crs('+proj=robin')\n",
    "graticule_robin = graticule.to_crs('+proj=robin')\n",
    "\n",
    "# Plot the data\n",
    "fig, ax = plt.subplots(figsize=(12, 8))\n",
    "\n",
    "worldBound_robin.plot(ax=ax,\n",
    "                      color='k')\n",
    "\n",
    "graticule_robin.plot(ax=ax, color='lightgrey')\n",
    "\n",
    "ax.set(title=\"World Map: Robinson Coordinate Reference System\",\n",
    "       xlabel=\"X Coordinates (meters)\",\n",
    "       ylabel=\"Y Coordinates (meters)\")\n",
    "\n",
    "for axis in [ax.xaxis, ax.yaxis]:\n",
    "    formatter = ScalarFormatter()\n",
    "    formatter.set_scientific(False)\n",
    "    axis.set_major_formatter(formatter)"
   ]
  },
  {
   "cell_type": "code",
   "execution_count": null,
   "metadata": {},
   "outputs": [],
   "source": [
    "# Plot the data\n",
    "fig, ax = plt.subplots(1, 1, figsize=(12, 8))\n",
    "\n",
    "worldBound_robin.plot(ax=ax,\n",
    "                      color='k')\n",
    "graticule_robin.plot(ax=ax, \n",
    "                     color='lightgrey')\n",
    "city_locations.plot(ax=ax, \n",
    "                    marker='*', \n",
    "                    color='springgreen', \n",
    "                    markersize=100)\n",
    "\n",
    "ax.set(title=\"World Map: Robinson Coordinate Reference System\", \n",
    "       xlabel=\"X Coordinates (meters)\",\n",
    "       ylabel=\"Y Coordinates (meters)\")\n",
    "\n",
    "for axis in [ax.xaxis, ax.yaxis]:\n",
    "    formatter = ScalarFormatter()\n",
    "    formatter.set_scientific(False)\n",
    "    axis.set_major_formatter(formatter)\n",
    "    \n",
    "plt.axis('equal');    "
   ]
  },
  {
   "cell_type": "code",
   "execution_count": null,
   "metadata": {},
   "outputs": [],
   "source": [
    "# Reproject point locations to the Robinson projection\n",
    "city_locations_robin = city_locations.to_crs(worldBound_robin.crs)\n",
    "\n",
    "fig, ax = plt.subplots(1, 1, figsize=(12, 8))\n",
    "worldBound_robin.plot(ax=ax, \n",
    "                      cmap='Greys')\n",
    "ax.set(title=\"World map (robinson)\", \n",
    "       xlabel=\"X Coordinates (meters)\",\n",
    "       ylabel=\"Y Coordinates (meters)\")\n",
    "city_locations_robin.plot(ax=ax, markersize=100, color='springgreen')\n",
    "\n",
    "for axis in [ax.xaxis, ax.yaxis]:\n",
    "    formatter = ScalarFormatter()\n",
    "    formatter.set_scientific(False)\n",
    "    axis.set_major_formatter(formatter)\n",
    "\n",
    "plt.axis('equal');"
   ]
  },
  {
   "cell_type": "code",
   "execution_count": null,
   "metadata": {},
   "outputs": [],
   "source": [
    "# Reproject graticules and bounding box  to robinson\n",
    "graticule_robinson = graticule.to_crs('+proj=robin')\n",
    "bbox_robinson = bbox.to_crs('+proj=robin')\n",
    "\n",
    "# Setup plot with 2 \"rows\" one for each map and one column\n",
    "fig, (ax0, ax1) = plt.subplots(2, 1, figsize=(13, 12))\n",
    "\n",
    "# First plot\n",
    "bbox.plot(ax=ax0,\n",
    "          alpha=.1,\n",
    "          color='grey')\n",
    "\n",
    "graticule.plot(ax=ax0,\n",
    "               color='lightgrey')\n",
    "\n",
    "worldBound.plot(ax=ax0,\n",
    "                color='k')\n",
    "\n",
    "city_locations.plot(ax=ax0,\n",
    "                    markersize=100,\n",
    "                    color='springgreen')\n",
    "\n",
    "ax0.set(title=\"World Map - Geographic (long/lat degrees)\")\n",
    "\n",
    "# Second plot\n",
    "bbox_robinson.plot(ax=ax1,\n",
    "                   alpha=.1,\n",
    "                   color='grey')\n",
    "\n",
    "graticule_robinson.plot(ax=ax1,\n",
    "                        color='lightgrey')\n",
    "\n",
    "worldBound_robin.plot(ax=ax1,\n",
    "                      color='k')\n",
    "\n",
    "city_locations_robin.plot(ax=ax1,\n",
    "                          markersize=100,\n",
    "                          color='springgreen')\n",
    "\n",
    "ax1.set(title=\"World Map Projected - Robinson (Meters)\")\n",
    "\n",
    "for axis in [ax1.xaxis, ax1.yaxis]:\n",
    "    formatter = ScalarFormatter()\n",
    "    formatter.set_scientific(False)\n",
    "    axis.set_major_formatter(formatter)"
   ]
  },
  {
   "cell_type": "markdown",
   "metadata": {},
   "source": [
    "You may be wondering, why bother with different CRSs if it makes your analysis more complicated? Well, each CRS is optimized to best represent the:\n",
    "\n",
    "- shape and/or\n",
    "- scale / distance and/or\n",
    "- area\n",
    "\n",
    "of features in the data. And no one CRS is great at optimizing all three elements: shape, distance AND area. Some CRSs are optimized for shape, some are optimized for distance and some are optimized for area. Some CRSs are also optimized for particular regions - for instance the United States, or Europe. Discussing CRS as it optimizes shape, distance and area is beyond the scope of this tutorial, but it’s important to understand that the CRS that you chose for your data, will impact working with the data.\n",
    "\n",
    "We will discuss some of the differences between the projected UTM CRS and geographic WGS84 later."
   ]
  },
  {
   "cell_type": "markdown",
   "metadata": {},
   "source": [
    "Compare the maps of the globe above. What do you notice about the shape of the various countries. Are there any signs of distortion in certain areas on either map? Which one is better?\n",
    "\n",
    "Look at the image below which depicts maps of the United States in 4 different CRSs. What visual differences do you notice in each map? Look up each projection online, what elements (shape,area or distance) does each projection used in the graphic below optimize?"
   ]
  }
 ],
 "metadata": {
  "kernelspec": {
   "display_name": "Python 3",
   "language": "python",
   "name": "python3"
  },
  "language_info": {
   "codemirror_mode": {
    "name": "ipython",
    "version": 3
   },
   "file_extension": ".py",
   "mimetype": "text/x-python",
   "name": "python",
   "nbconvert_exporter": "python",
   "pygments_lexer": "ipython3",
   "version": "3.7.6"
  }
 },
 "nbformat": 4,
 "nbformat_minor": 4
}
