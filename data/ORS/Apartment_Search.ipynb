{
 "cells": [
  {
   "cell_type": "markdown",
   "metadata": {},
   "source": [
    "In this notebook we'll provide an example for using different openrouteservice API's to help you look for an apartment."
   ]
  },
  {
   "cell_type": "code",
   "execution_count": null,
   "metadata": {},
   "outputs": [],
   "source": [
    "import folium\n",
    "from openrouteservice import client"
   ]
  },
  {
   "cell_type": "markdown",
   "metadata": {},
   "source": [
    "We have just moved to San Francisco with our kids and are looking for the perfect location to get a new home. Our geo intuition tells us we have to look at the data to come to this important decision. So we decide to geek it up a bit."
   ]
  },
  {
   "cell_type": "markdown",
   "metadata": {},
   "source": [
    "# Apartment isochrones"
   ]
  },
  {
   "cell_type": "markdown",
   "metadata": {},
   "source": [
    "There are three different suggested locations for our new home. Let's visualize them and the 15 minute walking radius on a map:"
   ]
  },
  {
   "cell_type": "code",
   "execution_count": null,
   "metadata": {},
   "outputs": [],
   "source": [
    "api_key = 'your_key' #Provide your personal API key\n",
    "clnt = client.Client(key=api_key) \n",
    "# Set up folium map\n",
    "map1 = folium.Map(tiles='Stamen Toner', location=([37.738684, -122.450523]), zoom_start=12)\n",
    "\n",
    "# Set up the apartment dictionary with real coordinates\n",
    "apt_dict = {'first': {'location': [-122.430954, 37.792965]},\n",
    "            'second': {'location': [-122.501636, 37.748653]},\n",
    "            'third': {'location': [-122.446629, 37.736928]}\n",
    "           }\n",
    "\n",
    "# Request of isochrones with 15 minute footwalk.\n",
    "params_iso = {'profile': 'foot-walking',\n",
    "              'intervals': [900], # 900/60 = 15 mins\n",
    "              'segments': 900,\n",
    "              'attributes': ['total_pop'] # Get population count for isochrones\n",
    "             }\n",
    "\n",
    "for name, apt in apt_dict.items():\n",
    "    params_iso['locations'] = [apt['location']] # Add apartment coords to request parameters\n",
    "    apt['iso'] = clnt.isochrones(**params_iso) # Perform isochrone request\n",
    "    folium.features.GeoJson(apt['iso']).add_to(map1) # Add GeoJson to map\n",
    "    \n",
    "    folium.map.Marker(list(reversed(apt['location'])), # reverse coords due to weird folium lat/lon syntax\n",
    "                      icon=folium.Icon(color='lightgray',\n",
    "                                        icon_color='#cc0000',\n",
    "                                        icon='home',\n",
    "                                        prefix='fa',\n",
    "                                       ),\n",
    "                      popup=name,\n",
    "                 ).add_to(map1) # Add apartment locations to map\n",
    "\n",
    "map1"
   ]
  },
  {
   "cell_type": "markdown",
   "metadata": {},
   "source": [
    "# POIs around apartments"
   ]
  },
  {
   "cell_type": "markdown",
   "metadata": {},
   "source": [
    "For the ever-styled foodie parents we are, we need to have the 3 basic things covered: kindergarten, supermarket and hair dresser. Let's see what options we got around our apartments:"
   ]
  },
  {
   "cell_type": "code",
   "execution_count": null,
   "metadata": {},
   "outputs": [],
   "source": [
    "# Common request parameters\n",
    "params_poi = {'request': 'pois',\n",
    "              'sortby': 'distance'}\n",
    "\n",
    "# POI categories according to \n",
    "# https://github.com/GIScience/openrouteservice-docs#places-response\n",
    "categories_poi = {'kindergarten': [153],\n",
    "                  'supermarket': [518],\n",
    "                  'hairdresser': [395]}\n",
    "\n",
    "for name, apt in apt_dict.items():\n",
    "    apt['categories'] = dict() # Store in pois dict for easier retrieval\n",
    "    params_poi['geojson'] = apt['iso']['features'][0]['geometry']\n",
    "    print(\"\\n{} apartment\".format(name))\n",
    "    \n",
    "    for typ, category in categories_poi.items():\n",
    "        params_poi['filter_category_ids'] = category\n",
    "        apt['categories'][typ] = dict()\n",
    "        apt['categories'][typ]['geojson']= clnt.places(**params_poi)['features'] # Actual POI request\n",
    "        print(\"\\t{}: {}\".format(typ, # Print amount POIs\n",
    "                                len(apt['categories'][typ]['geojson'])))"
   ]
  },
  {
   "cell_type": "markdown",
   "metadata": {},
   "source": [
    "So, all apartments meet all requirements. Seems like we have to drill down further."
   ]
  },
  {
   "cell_type": "markdown",
   "metadata": {},
   "source": [
    "# Routing from apartments to POIs"
   ]
  },
  {
   "cell_type": "markdown",
   "metadata": {},
   "source": [
    "To decide on a place, we would like to know from which apartment we can reach all required POI categories the quickest. So, first we look at the distances from each apartment to the respective POIs."
   ]
  },
  {
   "cell_type": "code",
   "execution_count": null,
   "metadata": {},
   "outputs": [],
   "source": [
    "# Set up common request parameters\n",
    "params_route = {'profile': 'foot-walking',\n",
    "               'format_out': 'geojson',\n",
    "               'geometry': 'true',\n",
    "               'format': 'geojson',\n",
    "               'instructions': 'false',\n",
    "               }\n",
    "\n",
    "# Set up dict for font-awesome\n",
    "style_dict = {'kindergarten': 'child',\n",
    "              'supermarket': 'shopping-cart',\n",
    "              'hairdresser': 'scissors'\n",
    "             }\n",
    "\n",
    "# Store all routes from all apartments to POIs\n",
    "for apt in apt_dict.values():\n",
    "    for cat, pois in apt['categories'].items():\n",
    "        pois['durations'] = []\n",
    "        for poi in pois['geojson']:\n",
    "            poi_coords = poi['geometry']['coordinates']\n",
    "            \n",
    "            # Perform actual request\n",
    "            params_route['coordinates'] = [apt['location'],\n",
    "                                           poi_coords\n",
    "                                          ]\n",
    "            json_route = clnt.directions(**params_route)\n",
    "            \n",
    "            folium.features.GeoJson(json_route).add_to(map1)\n",
    "            folium.map.Marker(list(reversed(poi_coords)),\n",
    "                              icon=folium.Icon(color='white',\n",
    "                                               icon_color='#1a1aff',\n",
    "                                               icon=style_dict[cat],\n",
    "                                               prefix='fa'\n",
    "                                              )\n",
    "                             ).add_to(map1)\n",
    "            \n",
    "            poi_duration = json_route['features'][0]['properties']['summary']['duration']\n",
    "            pois['durations'].append(poi_duration) # Record durations of routes\n",
    "        \n",
    "map1"
   ]
  },
  {
   "cell_type": "markdown",
   "metadata": {},
   "source": [
    "# Quickest route to all POIs"
   ]
  },
  {
   "cell_type": "markdown",
   "metadata": {},
   "source": [
    "Now, we only need to determine which apartment is closest to all POI categories."
   ]
  },
  {
   "cell_type": "code",
   "execution_count": null,
   "metadata": {},
   "outputs": [],
   "source": [
    "# Sum up the closest POIs to each apartment\n",
    "for name, apt in apt_dict.items():\n",
    "    apt['shortest_sum'] = sum([min(cat['durations']) for cat in apt['categories'].values() if cat['durations']])\n",
    "    print(\"{} apartments: {} mins\".format(name,\n",
    "                                          apt['shortest_sum']/60\n",
    "                                         )\n",
    "         )"
   ]
  },
  {
   "cell_type": "markdown",
   "metadata": {},
   "source": [
    "# We got a winner!"
   ]
  },
  {
   "cell_type": "markdown",
   "metadata": {},
   "source": [
    "Finally, it looks like the 3rd apartment is the one where we would need to walk the shortest amount of time to reach a kindergarten, supermarket and a hair dresser. Let's pack those boxes and welcome to San Francisco."
   ]
  }
 ],
 "metadata": {
  "kernelspec": {
   "display_name": "Python 3",
   "language": "python",
   "name": "python3"
  },
  "language_info": {
   "codemirror_mode": {
    "name": "ipython",
    "version": 3
   },
   "file_extension": ".py",
   "mimetype": "text/x-python",
   "name": "python",
   "nbconvert_exporter": "python",
   "pygments_lexer": "ipython3",
   "version": "3.8.3"
  }
 },
 "nbformat": 4,
 "nbformat_minor": 2
}
