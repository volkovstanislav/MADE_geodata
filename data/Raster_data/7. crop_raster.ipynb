{
 "cells": [
  {
   "cell_type": "markdown",
   "metadata": {},
   "source": [
    "Link: https://www.earthdatascience.org/courses/use-data-open-source-python/intro-raster-data-python/raster-data-processing/crop-raster-data-with-shapefile-in-python/"
   ]
  },
  {
   "cell_type": "code",
   "execution_count": null,
   "metadata": {},
   "outputs": [],
   "source": [
    "import os\n",
    "import matplotlib.pyplot as plt\n",
    "import seaborn as sns\n",
    "import numpy as np\n",
    "from shapely.geometry import mapping\n",
    "import geopandas as gpd\n",
    "import rasterio as rio\n",
    "from rasterio.plot import plotting_extent\n",
    "from rasterio.mask import mask\n",
    "import earthpy as et\n",
    "import earthpy.spatial as es\n",
    "import earthpy.plot as ep\n",
    "\n",
    "# Prettier plotting with seaborn\n",
    "sns.set(font_scale=1.5)\n",
    "\n",
    "# Get data and set working directory\n",
    "et.data.get_data(\"colorado-flood\")\n",
    "os.chdir(os.path.join(et.io.HOME, 'earth-analytics'))"
   ]
  },
  {
   "cell_type": "code",
   "execution_count": null,
   "metadata": {},
   "outputs": [],
   "source": [
    "aoi = os.path.join(\"data\", \"colorado-flood\", \"spatial\",\n",
    "                   \"boulder-leehill-rd\", \"clip-extent.shp\")\n",
    "\n",
    "# Open crop extent (your study area extent boundary)\n",
    "crop_extent = gpd.read_file(aoi)"
   ]
  },
  {
   "cell_type": "code",
   "execution_count": null,
   "metadata": {},
   "outputs": [],
   "source": [
    "# Define relative paths to DTM and DSM files\n",
    "dtm_path = os.path.join(\"data\", \"colorado-flood\", \"spatial\",\n",
    "                        \"boulder-leehill-rd\", \"pre-flood\", \"lidar\",\n",
    "                        \"pre_DTM.tif\")\n",
    "\n",
    "dsm_path = os.path.join(\"data\", \"colorado-flood\", \"spatial\",\n",
    "                        \"boulder-leehill-rd\", \"pre-flood\", \"lidar\",\n",
    "                        \"pre_DSM.tif\")\n",
    "\n",
    "# Open DTM and DSM files\n",
    "with rio.open(dtm_path) as src:\n",
    "    lidar_dtm_im = src.read(1, masked=True)\n",
    "    spatial_extent = plotting_extent(src)\n",
    "\n",
    "with rio.open(dsm_path) as src:\n",
    "    lidar_dsm_im = src.read(1, masked=True)\n",
    "    spatial_extent = plotting_extent(src)\n",
    "\n",
    "# Create canopy height model (CHM)    \n",
    "lidar_chm_im = lidar_dsm_im - lidar_dtm_im"
   ]
  },
  {
   "cell_type": "code",
   "execution_count": null,
   "metadata": {},
   "outputs": [],
   "source": [
    "print('crop extent crs: ', crop_extent.crs)\n",
    "print('lidar crs: ', lidar_chm.crs)"
   ]
  },
  {
   "cell_type": "code",
   "execution_count": null,
   "metadata": {},
   "outputs": [],
   "source": [
    "# Plot the crop boundary layer\n",
    "# Note this is just an example so you can see what it looks like\n",
    "# You don't need to plot this layer in your homework!\n",
    "fig, ax = plt.subplots(figsize=(6, 6))\n",
    "\n",
    "crop_extent.plot(ax=ax)\n",
    "\n",
    "ax.set_title(\"Shapefile Crop Extent\",\n",
    "             fontsize=16)"
   ]
  },
  {
   "cell_type": "code",
   "execution_count": null,
   "metadata": {},
   "outputs": [],
   "source": [
    "fig, ax = plt.subplots(figsize=(10, 8))\n",
    "\n",
    "ep.plot_bands(lidar_chm_im, cmap='terrain',\n",
    "              extent=plotting_extent(lidar_chm),\n",
    "              ax=ax,\n",
    "              title=\"Raster Layer with Shapefile Overlayed\",\n",
    "              cbar=False)\n",
    "\n",
    "crop_extent.plot(ax=ax, alpha=.8)\n",
    "\n",
    "ax.set_axis_off()"
   ]
  },
  {
   "cell_type": "code",
   "execution_count": null,
   "metadata": {},
   "outputs": [],
   "source": [
    "lidar_chm_path = os.path.join(\"data\", \"colorado-flood\", \"spatial\",\n",
    "                              \"boulder-leehill-rd\", \"outputs\", \"lidar_chm.tif\")\n",
    "\n",
    "with rio.open(lidar_chm_path) as lidar_chm:\n",
    "    lidar_chm_crop, lidar_chm_crop_meta = es.crop_image(lidar_chm,crop_extent)\n",
    "\n",
    "lidar_chm_crop_affine = lidar_chm_crop_meta[\"transform\"]\n",
    "\n",
    "# Create spatial plotting extent for the cropped layer\n",
    "lidar_chm_extent = plotting_extent(lidar_chm_crop[0], lidar_chm_crop_affine)"
   ]
  },
  {
   "cell_type": "code",
   "execution_count": null,
   "metadata": {},
   "outputs": [],
   "source": [
    "# Plot your data\n",
    "ep.plot_bands(lidar_chm_crop[0],\n",
    "              extent=lidar_chm_extent,\n",
    "              cmap='Greys',\n",
    "              title=\"Cropped Raster Dataset\",\n",
    "              scale=False)\n",
    "plt.show()"
   ]
  },
  {
   "cell_type": "code",
   "execution_count": null,
   "metadata": {},
   "outputs": [],
   "source": [
    "# Update with the new cropped affine info and the new width and height\n",
    "lidar_chm_meta.update({'transform': lidar_chm_crop_affine,\n",
    "                       'height': lidar_chm_crop.shape[1],\n",
    "                       'width': lidar_chm_crop.shape[2],\n",
    "                       'nodata': -999.99})\n",
    "lidar_chm_meta"
   ]
  },
  {
   "cell_type": "code",
   "execution_count": null,
   "metadata": {},
   "outputs": [],
   "source": [
    "# Write data\n",
    "path_out = os.path.join(\"data\", \"colorado-flood\", \"spatial\", \n",
    "                        \"outputs\", \"lidar_chm_cropped.tif\")\n",
    "\n",
    "with rio.open(path_out, 'w', **lidar_chm_meta) as ff:\n",
    "    ff.write(lidar_chm_crop[0], 1)"
   ]
  }
 ],
 "metadata": {
  "kernelspec": {
   "display_name": "Python 3",
   "language": "python",
   "name": "python3"
  },
  "language_info": {
   "codemirror_mode": {
    "name": "ipython",
    "version": 3
   },
   "file_extension": ".py",
   "mimetype": "text/x-python",
   "name": "python",
   "nbconvert_exporter": "python",
   "pygments_lexer": "ipython3",
   "version": "3.7.6"
  }
 },
 "nbformat": 4,
 "nbformat_minor": 4
}
